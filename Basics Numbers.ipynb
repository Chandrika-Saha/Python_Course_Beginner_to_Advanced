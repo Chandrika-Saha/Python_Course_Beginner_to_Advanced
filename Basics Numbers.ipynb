{
 "cells": [
  {
   "cell_type": "code",
   "execution_count": 1,
   "id": "7195ec7d",
   "metadata": {},
   "outputs": [
    {
     "name": "stdout",
     "output_type": "stream",
     "text": [
      "Hello world!\n"
     ]
    }
   ],
   "source": [
    "print(\"Hello world!\")"
   ]
  },
  {
   "cell_type": "code",
   "execution_count": 2,
   "id": "3bc6597f",
   "metadata": {},
   "outputs": [
    {
     "name": "stdout",
     "output_type": "stream",
     "text": [
      "<class 'int'>\n",
      "<class 'float'>\n",
      "8.5\n",
      "7\n"
     ]
    }
   ],
   "source": [
    "# variables <- Hold data\n",
    "num1 = 5\n",
    "num2 = 3.5\n",
    "\n",
    "print(type(num1))\n",
    "print(type(num2))\n",
    "\n",
    "print(num1 + num2)\n",
    "print(3 + 4)"
   ]
  },
  {
   "cell_type": "code",
   "execution_count": 3,
   "id": "671b5dfa",
   "metadata": {},
   "outputs": [
    {
     "name": "stdout",
     "output_type": "stream",
     "text": [
      "1.5\n"
     ]
    }
   ],
   "source": [
    "# Name of the variable: \n",
    "# start with a-z or A-Z or _\n",
    "# cannot start with a number\n",
    "# it can have a-z, A-Z, 0-9, _\n",
    "# it cannot be a keyword\n",
    "# sum_result, added_items\n",
    "\n",
    "\n",
    "result = num1 - num2 \n",
    "print(result)"
   ]
  },
  {
   "cell_type": "code",
   "execution_count": 4,
   "id": "87740bf1",
   "metadata": {},
   "outputs": [
    {
     "name": "stdout",
     "output_type": "stream",
     "text": [
      "17.5\n"
     ]
    }
   ],
   "source": [
    "print(num1 * num2) # Multiplication"
   ]
  },
  {
   "cell_type": "code",
   "execution_count": 5,
   "id": "c4513174",
   "metadata": {},
   "outputs": [
    {
     "name": "stdout",
     "output_type": "stream",
     "text": [
      "1.4285714285714286\n"
     ]
    }
   ],
   "source": [
    "print(num1 / num2) # Division"
   ]
  },
  {
   "cell_type": "code",
   "execution_count": 6,
   "id": "119dfeee",
   "metadata": {},
   "outputs": [
    {
     "name": "stdout",
     "output_type": "stream",
     "text": [
      "1.4285714285714286\n",
      "1.0\n"
     ]
    }
   ],
   "source": [
    "print(num1 / num2) # normal division\n",
    "print(num1 // num2) # int division"
   ]
  },
  {
   "cell_type": "code",
   "execution_count": 7,
   "id": "eef7cdf1",
   "metadata": {},
   "outputs": [
    {
     "name": "stdout",
     "output_type": "stream",
     "text": [
      "100000000000000000000000000000000000000000000000000000000000000000000000000000000000000000000000000000000000000000000000000000000000000000000000000000000000000000000000000000000000000000000000000000000\n"
     ]
    }
   ],
   "source": [
    "num1 = 100\n",
    "num2 = 100\n",
    "print(num1**num2) # 100^100"
   ]
  },
  {
   "cell_type": "code",
   "execution_count": 8,
   "id": "e7108d83",
   "metadata": {},
   "outputs": [
    {
     "name": "stdout",
     "output_type": "stream",
     "text": [
      "1\n",
      "3\n"
     ]
    }
   ],
   "source": [
    "num1 = 8\n",
    "num2 = 5\n",
    "print(num1 // num2)\n",
    "print(num1 % num2) # Reminder of the division: Modulo operator"
   ]
  },
  {
   "cell_type": "code",
   "execution_count": 9,
   "id": "eb9df91a",
   "metadata": {},
   "outputs": [
    {
     "name": "stdout",
     "output_type": "stream",
     "text": [
      "10\n"
     ]
    }
   ],
   "source": [
    "num3 = -10\n",
    "print(abs(num3)) # Absolute value"
   ]
  },
  {
   "cell_type": "code",
   "execution_count": 10,
   "id": "e8c30dc4",
   "metadata": {},
   "outputs": [
    {
     "name": "stdout",
     "output_type": "stream",
     "text": [
      "3\n"
     ]
    }
   ],
   "source": [
    "num4 = 3.49\n",
    "print(round(num4))"
   ]
  },
  {
   "cell_type": "code",
   "execution_count": 11,
   "id": "38ce9219",
   "metadata": {},
   "outputs": [
    {
     "name": "stdout",
     "output_type": "stream",
     "text": [
      "3.77\n"
     ]
    }
   ],
   "source": [
    "num5 = 3.76567\n",
    "print(round(num5, 2))"
   ]
  },
  {
   "cell_type": "code",
   "execution_count": 12,
   "id": "ba53b023",
   "metadata": {},
   "outputs": [
    {
     "name": "stdout",
     "output_type": "stream",
     "text": [
      "Number 1 and 2 are equal\n"
     ]
    }
   ],
   "source": [
    "# Comparison operations:\n",
    "\n",
    "num1 = 3\n",
    "num2 = 3\n",
    "\n",
    "if num1 == num2: # \"==\" ----\"Equal\"\n",
    "    print(\"Number 1 and 2 are equal\")\n",
    "else:\n",
    "    print(\"They are not equal\")\n",
    "    "
   ]
  },
  {
   "cell_type": "code",
   "execution_count": 13,
   "id": "cd5fd882",
   "metadata": {},
   "outputs": [
    {
     "name": "stdout",
     "output_type": "stream",
     "text": [
      "They are not equal\n"
     ]
    }
   ],
   "source": [
    "num1 = 3\n",
    "num2 = 9\n",
    "\n",
    "if num1 != num2: # Here, != ---- \"Not Equal\"\n",
    "    print(\"They are not equal\")\n",
    "else:\n",
    "    print(\"They are equal\")"
   ]
  },
  {
   "cell_type": "code",
   "execution_count": 14,
   "id": "b34b7e0b",
   "metadata": {},
   "outputs": [
    {
     "name": "stdout",
     "output_type": "stream",
     "text": [
      "Num 2 is greater than Num 1\n"
     ]
    }
   ],
   "source": [
    "num1 = 1\n",
    "num2 = 3\n",
    "\n",
    "if num1 >= num2: # Here, '>' ---'greater than'\n",
    "    print(\"Num 1 is greater or equal to Num 2\")\n",
    "else:\n",
    "    print(\"Num 2 is greater than Num 1\")"
   ]
  },
  {
   "cell_type": "code",
   "execution_count": 15,
   "id": "c8d9fa0b",
   "metadata": {},
   "outputs": [
    {
     "name": "stdout",
     "output_type": "stream",
     "text": [
      "Num 1 is less or equal to Num 2\n"
     ]
    }
   ],
   "source": [
    "num1 = 3\n",
    "num2 = 3\n",
    "\n",
    "if num1 <= num2: # Here, '<' --- 'Less than'\n",
    "    print(\"Num 1 is less or equal to Num 2\")\n",
    "else:\n",
    "    print(\"Num 2 is less than Num 1\")"
   ]
  },
  {
   "cell_type": "code",
   "execution_count": 16,
   "id": "914e62d8",
   "metadata": {},
   "outputs": [
    {
     "name": "stdout",
     "output_type": "stream",
     "text": [
      "Num 1 is greater than Num 2\n"
     ]
    }
   ],
   "source": [
    "num1 = 3\n",
    "num2 = 2\n",
    "\n",
    "if num1 > num2: # Here, '>=' --- 'greater than equal'\n",
    "    print(\"Num 1 is greater than Num 2\")\n",
    "else:\n",
    "    print(\"Num 2 is greater than Num 1\")"
   ]
  },
  {
   "cell_type": "code",
   "execution_count": 17,
   "id": "abff37c6",
   "metadata": {},
   "outputs": [
    {
     "name": "stdout",
     "output_type": "stream",
     "text": [
      "Num 2 is less than Num 1\n"
     ]
    }
   ],
   "source": [
    "num1 = 3\n",
    "num2 = 2\n",
    "\n",
    "if num1 < num2: # Here, '<=' -- 'less than equal'\n",
    "    print('Num1 is less than Num 2')\n",
    "else:\n",
    "    print('Num 2 is less than Num 1')"
   ]
  },
  {
   "cell_type": "code",
   "execution_count": 18,
   "id": "a8abb493",
   "metadata": {},
   "outputs": [
    {
     "name": "stdout",
     "output_type": "stream",
     "text": [
      "Num 2 is greater than Num 1\n"
     ]
    }
   ],
   "source": [
    "num1 = 7\n",
    "num2 = 30\n",
    "\n",
    "if num1 > num2:\n",
    "    print(\"Num 1 is greater than Num 2\")\n",
    "elif num1 == num2:\n",
    "    print(\"Numbers are equal\")\n",
    "else:\n",
    "    print(\"Num 2 is greater than Num 1\")"
   ]
  },
  {
   "cell_type": "code",
   "execution_count": 19,
   "id": "eea9d395",
   "metadata": {},
   "outputs": [
    {
     "name": "stdout",
     "output_type": "stream",
     "text": [
      "Please Enter something: hello\n",
      "<class 'str'>\n",
      "hello\n"
     ]
    }
   ],
   "source": [
    "message = input(\"Please Enter something: \")\n",
    "print(type(message))\n",
    "print(message) "
   ]
  },
  {
   "cell_type": "code",
   "execution_count": 20,
   "id": "4c111b68",
   "metadata": {},
   "outputs": [
    {
     "name": "stdout",
     "output_type": "stream",
     "text": [
      "Enter number 1: 23\n",
      "Enter number 2: 21\n",
      "<class 'int'> <class 'int'>\n",
      "44\n"
     ]
    }
   ],
   "source": [
    "num1 = int(input(\"Enter number 1: \"))\n",
    "num2 = int(input(\"Enter number 2: \")) \n",
    "print(type(num1), type(num2))\n",
    "print(num1 + num2)"
   ]
  },
  {
   "cell_type": "code",
   "execution_count": 21,
   "id": "57e0ee01",
   "metadata": {},
   "outputs": [
    {
     "name": "stdout",
     "output_type": "stream",
     "text": [
      "Enter number 1: 22\n",
      "Enter number 2: 21\n",
      "Num 1 is greater than Num 2\n"
     ]
    }
   ],
   "source": [
    "num1 = int(input(\"Enter number 1: \"))\n",
    "num2 = int(input(\"Enter number 2: \"))\n",
    "\n",
    "if num1 > num2:\n",
    "    print(\"Num 1 is greater than Num 2\")\n",
    "elif num1 == num2:\n",
    "    print(\"Numbers are equal\")\n",
    "else:\n",
    "    print(\"Num 2 is greater than Num 1\")"
   ]
  },
  {
   "cell_type": "code",
   "execution_count": 25,
   "id": "d94be5dc",
   "metadata": {},
   "outputs": [
    {
     "name": "stdout",
     "output_type": "stream",
     "text": [
      "3.54\n",
      "7.5\n"
     ]
    }
   ],
   "source": [
    "num1 = \"3.5\"\n",
    "num2 = \"4\"\n",
    "print(num1 + num2)\n",
    "\n",
    "num1 = float(\"3.5\")\n",
    "num2 = int(\"4\")\n",
    "print(num1 + num2)"
   ]
  },
  {
   "cell_type": "code",
   "execution_count": 26,
   "id": "d889f75e",
   "metadata": {},
   "outputs": [
    {
     "name": "stdout",
     "output_type": "stream",
     "text": [
      "4\n"
     ]
    }
   ],
   "source": [
    "num = 1\n",
    "num += 3 # num = num + 1 = 1 + 1 = 2\n",
    "print(num)"
   ]
  },
  {
   "cell_type": "code",
   "execution_count": 27,
   "id": "b73af924",
   "metadata": {},
   "outputs": [
    {
     "name": "stdout",
     "output_type": "stream",
     "text": [
      "12\n"
     ]
    }
   ],
   "source": [
    "num = 2\n",
    "num *= 6 # num = num * 6 = 2 * 6\n",
    "print(num)"
   ]
  }
 ],
 "metadata": {
  "kernelspec": {
   "display_name": "Python 3",
   "language": "python",
   "name": "python3"
  },
  "language_info": {
   "codemirror_mode": {
    "name": "ipython",
    "version": 3
   },
   "file_extension": ".py",
   "mimetype": "text/x-python",
   "name": "python",
   "nbconvert_exporter": "python",
   "pygments_lexer": "ipython3",
   "version": "3.6.13"
  }
 },
 "nbformat": 4,
 "nbformat_minor": 5
}
