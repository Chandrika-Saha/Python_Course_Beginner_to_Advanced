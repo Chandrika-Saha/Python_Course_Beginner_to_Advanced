{
 "cells": [
  {
   "cell_type": "markdown",
   "id": "9a16b2f8",
   "metadata": {},
   "source": [
    "# Strings- working with text data"
   ]
  },
  {
   "cell_type": "code",
   "execution_count": 1,
   "id": "8267572d",
   "metadata": {
    "scrolled": true
   },
   "outputs": [
    {
     "name": "stdout",
     "output_type": "stream",
     "text": [
      "Hello World!\n"
     ]
    }
   ],
   "source": [
    "my_message = 'Hello World!' # Strings -> text data\n",
    "print(my_message)"
   ]
  },
  {
   "cell_type": "code",
   "execution_count": 2,
   "id": "460841f6",
   "metadata": {},
   "outputs": [
    {
     "name": "stdout",
     "output_type": "stream",
     "text": [
      "Sam's World\n",
      "Sam's World\n"
     ]
    }
   ],
   "source": [
    "# Print out apostrophes\n",
    "my_message_1 = \"Sam's World\"\n",
    "my_message_2 = 'Sam\\'s World'\n",
    "print(my_message_1)\n",
    "print(my_message_2)"
   ]
  },
  {
   "cell_type": "code",
   "execution_count": 3,
   "id": "fd5ba339",
   "metadata": {},
   "outputs": [
    {
     "name": "stdout",
     "output_type": "stream",
     "text": [
      "Sam's World is a good\n",
      "magic show.\n",
      "Isn't it?\n"
     ]
    }
   ],
   "source": [
    "# Print out multi-line String\n",
    "message_1 = \"\"\"Sam's World is a good\n",
    "magic show.\n",
    "Isn't it?\"\"\"\n",
    "print(message_1)"
   ]
  },
  {
   "cell_type": "code",
   "execution_count": 4,
   "id": "98510c20",
   "metadata": {},
   "outputs": [
    {
     "name": "stdout",
     "output_type": "stream",
     "text": [
      "11\n"
     ]
    }
   ],
   "source": [
    "# How many characters in our string\n",
    "message = \"Hello World\"\n",
    "print(len(message))"
   ]
  },
  {
   "cell_type": "code",
   "execution_count": 5,
   "id": "aa7b472a",
   "metadata": {},
   "outputs": [
    {
     "name": "stdout",
     "output_type": "stream",
     "text": [
      "l\n",
      "o W\n",
      "Hello\n",
      " World\n",
      "Worl\n",
      "World\n"
     ]
    }
   ],
   "source": [
    "# Access a character in a string\n",
    "\n",
    "# \"Hello World\"\n",
    "# Indexing: H -> 0, e -> 1, l ->2, l-> 3, o->4....\n",
    "# H e l l o   W o r l d\n",
    "# 0 1 2 3 4 5 6 7 8 9 10\n",
    "#            -5 -4 -3 -2 -1\n",
    "message = \"Hello World\"\n",
    "print(message[-2])\n",
    "\n",
    "# Slicing\n",
    "print(message[4:7])\n",
    "print(message[:5])\n",
    "print(message[5:])\n",
    "print(message[-5:-1])\n",
    "print(message[-5: ])"
   ]
  },
  {
   "cell_type": "code",
   "execution_count": 6,
   "id": "81d9b7fe",
   "metadata": {
    "scrolled": true
   },
   "outputs": [
    {
     "name": "stdout",
     "output_type": "stream",
     "text": [
      "hello world. bye.\n",
      "HELLO WORLD. BYE.\n",
      "Hello world. bye.\n",
      "Hello World. Bye.\n"
     ]
    }
   ],
   "source": [
    "# Convert all characters to lowercase or uppercase\n",
    "\n",
    "message = \"hello world. Bye.\"\n",
    "\n",
    "print(message.lower())\n",
    "print(message.upper())\n",
    "print(message.capitalize())\n",
    "print(message.title())"
   ]
  },
  {
   "cell_type": "code",
   "execution_count": 7,
   "id": "5f8e1caa",
   "metadata": {},
   "outputs": [
    {
     "name": "stdout",
     "output_type": "stream",
     "text": [
      "2\n",
      "2\n",
      "6\n",
      "-1\n"
     ]
    }
   ],
   "source": [
    "message = \"hello World World hello world\"\n",
    "\n",
    "#Count the number of a char or string occurances\n",
    "print(message.count(\"W\"))\n",
    "print(message.count(\"hello\"))\n",
    "\n",
    "#Find the index of the occurances of a letter\n",
    "print(message.find(\"World\"))\n",
    "\n",
    "#This will return -1 since \"message\" does not contain \"Universe\"\n",
    "print(message.find(\"Universe\"))"
   ]
  },
  {
   "cell_type": "code",
   "execution_count": 8,
   "id": "1d512a56",
   "metadata": {},
   "outputs": [
    {
     "name": "stdout",
     "output_type": "stream",
     "text": [
      "6\n",
      "12\n",
      "-1\n",
      "[6, 12]\n"
     ]
    }
   ],
   "source": [
    "indexes = []\n",
    "index = message.find(\"World\")\n",
    "print(index)\n",
    "while index != -1:\n",
    "    indexes.append(index)\n",
    "    index = message.find(\"World\", index + 1)\n",
    "    print(index)\n",
    "print(indexes)"
   ]
  },
  {
   "cell_type": "code",
   "execution_count": 9,
   "id": "945dae00",
   "metadata": {},
   "outputs": [
    {
     "name": "stdout",
     "output_type": "stream",
     "text": [
      "Hello Universe Universe\n",
      "Hello World World\n",
      "Hello Universe Universe\n"
     ]
    }
   ],
   "source": [
    "message = \"Hello World World\"\n",
    "print(message.replace(\"World\", \"Universe\"))\n",
    "print(message)\n",
    "#Replace chunks of strings with a new string\n",
    "message = message.replace(\"World\", \"Universe\")\n",
    "print(message)"
   ]
  },
  {
   "cell_type": "code",
   "execution_count": 10,
   "id": "8431dd09",
   "metadata": {},
   "outputs": [
    {
     "name": "stdout",
     "output_type": "stream",
     "text": [
      "HelloSam\n",
      "Hello, Sam... Welcome!\n"
     ]
    }
   ],
   "source": [
    "# Concatenating strings together\n",
    "\n",
    "greetings = \"Hello\"\n",
    "name = \"Sam\"\n",
    "print(greetings + name)\n",
    "\n",
    "message = greetings + ', ' + name + '... Welcome!'\n",
    "print(message)"
   ]
  },
  {
   "cell_type": "code",
   "execution_count": 11,
   "id": "9dc6ce24",
   "metadata": {},
   "outputs": [
    {
     "name": "stdout",
     "output_type": "stream",
     "text": [
      "Hello, Sam. Welcome!\n",
      "Hello, Sam. Welcome!\n"
     ]
    }
   ],
   "source": [
    "# Formatting stirngs together\n",
    "greetings = \"Hello\"\n",
    "name = \"Sam\"\n",
    "\n",
    "# Option 1\n",
    "message = '{}, {}. Welcome!'.format(greetings, name)\n",
    "print(message)\n",
    "\n",
    "# Option 2\n",
    "message = f'{greetings}, {name}. Welcome!'\n",
    "print(message)"
   ]
  },
  {
   "cell_type": "code",
   "execution_count": null,
   "id": "956b42ec",
   "metadata": {},
   "outputs": [],
   "source": []
  }
 ],
 "metadata": {
  "kernelspec": {
   "display_name": "Python 3",
   "language": "python",
   "name": "python3"
  },
  "language_info": {
   "codemirror_mode": {
    "name": "ipython",
    "version": 3
   },
   "file_extension": ".py",
   "mimetype": "text/x-python",
   "name": "python",
   "nbconvert_exporter": "python",
   "pygments_lexer": "ipython3",
   "version": "3.6.13"
  }
 },
 "nbformat": 4,
 "nbformat_minor": 5
}
