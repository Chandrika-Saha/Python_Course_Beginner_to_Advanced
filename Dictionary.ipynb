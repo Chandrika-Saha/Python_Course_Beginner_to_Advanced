{
 "cells": [
  {
   "cell_type": "markdown",
   "id": "4afbe1f7",
   "metadata": {},
   "source": [
    "# Python Dictionaries"
   ]
  },
  {
   "cell_type": "code",
   "execution_count": 1,
   "id": "e44f9216",
   "metadata": {},
   "outputs": [
    {
     "name": "stdout",
     "output_type": "stream",
     "text": [
      "{'name': 'John', 'age': 25, 'courses': ['Math', 'History']}\n",
      "John\n"
     ]
    }
   ],
   "source": [
    "# 'Key' : 'Value'\n",
    "student = {'name': 'John', 'age': 25, 'courses' : ['Math', 'History']}\n",
    "print(student)\n",
    "print(student['name'])"
   ]
  },
  {
   "cell_type": "code",
   "execution_count": 2,
   "id": "28cdf2bf",
   "metadata": {},
   "outputs": [
    {
     "name": "stdout",
     "output_type": "stream",
     "text": [
      "Not Found!!\n",
      "25\n"
     ]
    }
   ],
   "source": [
    "print(student.get('phone', 'Not Found!!'))\n",
    "print(student.get('age', 0))"
   ]
  },
  {
   "cell_type": "code",
   "execution_count": 3,
   "id": "e5da3f64",
   "metadata": {},
   "outputs": [
    {
     "name": "stdout",
     "output_type": "stream",
     "text": [
      "{'name': 'John', 'age': 25, 'courses': ['Math', 'History', 'Aiden Class']}\n"
     ]
    }
   ],
   "source": [
    "student.get('courses').append('Aiden Class')\n",
    "print(student)"
   ]
  },
  {
   "cell_type": "code",
   "execution_count": 4,
   "id": "69f36018",
   "metadata": {},
   "outputs": [
    {
     "name": "stdout",
     "output_type": "stream",
     "text": [
      "{'name': 'Aiden', 'age': 25, 'courses': ['Math', 'History', 'Aiden Class'], 'phone': '555-555555'}\n"
     ]
    }
   ],
   "source": [
    "# Add a key-value pair\n",
    "student['phone'] = '555-555555'\n",
    "student['name'] = 'Aiden'\n",
    "print(student)"
   ]
  },
  {
   "cell_type": "code",
   "execution_count": 5,
   "id": "b58f4b2e",
   "metadata": {},
   "outputs": [
    {
     "name": "stdout",
     "output_type": "stream",
     "text": [
      "{'name': 'Aiden', 'age': 25, 'courses': ['Math', 'History', 'Aiden Class'], 'phone': '67676-67363'}\n"
     ]
    }
   ],
   "source": [
    "student.update({'phone': '67676-67363'})\n",
    "print(student)"
   ]
  },
  {
   "cell_type": "code",
   "execution_count": 6,
   "id": "75380712",
   "metadata": {},
   "outputs": [],
   "source": [
    "new_list = []\n",
    "new_list.append(student)"
   ]
  },
  {
   "cell_type": "code",
   "execution_count": 7,
   "id": "90deeafe",
   "metadata": {},
   "outputs": [
    {
     "name": "stdout",
     "output_type": "stream",
     "text": [
      "[{'name': 'Aiden', 'age': 25, 'courses': ['Math', 'History', 'Aiden Class'], 'phone': '67676-67363'}]\n"
     ]
    }
   ],
   "source": [
    "print(new_list)"
   ]
  },
  {
   "cell_type": "code",
   "execution_count": 8,
   "id": "3592248d",
   "metadata": {},
   "outputs": [
    {
     "name": "stdout",
     "output_type": "stream",
     "text": [
      "[{'name': 'Aiden', 'age': 25, 'courses': ['Math', 'History', 'Aiden Class'], 'phone': '67676-67363'}, {'name': 'Adam', 'age': 78, 'courses': [], 'phone': '555-555555'}]\n"
     ]
    }
   ],
   "source": [
    "student2 = {'name': 'Adam', 'age': 78, 'courses': [], 'phone': '555-555555'}\n",
    "new_list.append(student2)\n",
    "print(new_list)"
   ]
  },
  {
   "cell_type": "code",
   "execution_count": 9,
   "id": "098b34a0",
   "metadata": {},
   "outputs": [],
   "source": [
    "# student3 = {}\n",
    "# user_input = input(\"Enter the name: \")\n",
    "# student3['name'] = user_input\n",
    "# user_age = int(input(\"Enter the age: \"))\n",
    "# student3['age'] = user_age\n",
    "# print(student3)"
   ]
  },
  {
   "cell_type": "code",
   "execution_count": 10,
   "id": "f021282f",
   "metadata": {},
   "outputs": [
    {
     "name": "stdout",
     "output_type": "stream",
     "text": [
      "{'name': None, 'courses': ['Math', 'History', 'Aiden Class'], 'phone': '67676-67363'}\n"
     ]
    }
   ],
   "source": [
    "# delete a key-value pair\n",
    "del student['age']\n",
    "student['name'] = None\n",
    "print(student)"
   ]
  },
  {
   "cell_type": "code",
   "execution_count": 11,
   "id": "4bd0ebe1",
   "metadata": {},
   "outputs": [
    {
     "name": "stdout",
     "output_type": "stream",
     "text": [
      "None\n",
      "{'courses': ['Math', 'History', 'Aiden Class'], 'phone': '67676-67363'}\n"
     ]
    }
   ],
   "source": [
    "name = student.pop('name')\n",
    "print(name)\n",
    "print(student)"
   ]
  },
  {
   "cell_type": "code",
   "execution_count": 12,
   "id": "714fd5e1",
   "metadata": {},
   "outputs": [
    {
     "name": "stdout",
     "output_type": "stream",
     "text": [
      "2\n",
      "dict_keys(['courses', 'phone'])\n",
      "dict_values([['Math', 'History', 'Aiden Class'], '67676-67363'])\n",
      "dict_items([('courses', ['Math', 'History', 'Aiden Class']), ('phone', '67676-67363')])\n"
     ]
    }
   ],
   "source": [
    "print(len(student))\n",
    "print(student.keys())\n",
    "print(student.values())\n",
    "print(student.items())"
   ]
  },
  {
   "cell_type": "code",
   "execution_count": 13,
   "id": "372017f4",
   "metadata": {},
   "outputs": [
    {
     "name": "stdout",
     "output_type": "stream",
     "text": [
      "courses\n",
      "phone\n"
     ]
    }
   ],
   "source": [
    "for key in student.keys():\n",
    "#     if(key != 'courses'):\n",
    "    print(key)"
   ]
  },
  {
   "cell_type": "code",
   "execution_count": 14,
   "id": "800536f5",
   "metadata": {},
   "outputs": [
    {
     "name": "stdout",
     "output_type": "stream",
     "text": [
      "courses and ['Math', 'History', 'Aiden Class']\n",
      "phone and 67676-67363\n"
     ]
    }
   ],
   "source": [
    "for key, value in student.items(): \n",
    "    print(key, \"and\", value)"
   ]
  }
 ],
 "metadata": {
  "kernelspec": {
   "display_name": "Python 3",
   "language": "python",
   "name": "python3"
  },
  "language_info": {
   "codemirror_mode": {
    "name": "ipython",
    "version": 3
   },
   "file_extension": ".py",
   "mimetype": "text/x-python",
   "name": "python",
   "nbconvert_exporter": "python",
   "pygments_lexer": "ipython3",
   "version": "3.6.13"
  }
 },
 "nbformat": 4,
 "nbformat_minor": 5
}
