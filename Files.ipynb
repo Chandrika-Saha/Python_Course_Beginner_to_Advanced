{
 "cells": [
  {
   "cell_type": "markdown",
   "id": "d2f3c4db",
   "metadata": {},
   "source": [
    "# Python files"
   ]
  },
  {
   "cell_type": "code",
   "execution_count": 1,
   "id": "157a0baa",
   "metadata": {},
   "outputs": [],
   "source": [
    "# import os\n",
    "\n",
    "# current_dir = os.getcwd()\n",
    "\n",
    "# for dirpath, dirname, filenames in os.walk(current_dir):\n",
    "#     print(\"Current path: \", dirpath)\n",
    "#     print(\"Directories: \", dirname)\n",
    "#     print(\"Files: \", filenames)"
   ]
  },
  {
   "cell_type": "code",
   "execution_count": 2,
   "id": "05425e99",
   "metadata": {},
   "outputs": [
    {
     "name": "stdout",
     "output_type": "stream",
     "text": [
      "10: Will & Grace\n",
      "20: Gunsmoke;Law & Order\n",
      "30: The Simpsons.....\n"
     ]
    }
   ],
   "source": [
    "# opening a file in non-recommended way\n",
    "file = open('output_keys.txt', 'r')\n",
    "print(file.read())\n",
    "file.close()"
   ]
  },
  {
   "cell_type": "code",
   "execution_count": 3,
   "id": "b22aa455",
   "metadata": {},
   "outputs": [
    {
     "name": "stdout",
     "output_type": "stream",
     "text": [
      "10: Will & Grace\n",
      "\n"
     ]
    }
   ],
   "source": [
    "# recommended\n",
    "with open('output_keys.txt', 'r') as f:\n",
    "    f_content = f.readline() # read(), readlines(), readline()\n",
    "    print(f_content)"
   ]
  },
  {
   "cell_type": "code",
   "execution_count": 4,
   "id": "714d4bf3",
   "metadata": {},
   "outputs": [
    {
     "name": "stdout",
     "output_type": "stream",
     "text": [
      "10: Will & Grace\n",
      "\n",
      "20: Gunsmoke;Law & Order\n",
      "\n",
      "30: The Simpsons.....\n"
     ]
    }
   ],
   "source": [
    "# print the lines of a file, method other than readline\n",
    "\n",
    "with open('output_keys.txt', 'r') as f:\n",
    "    for line in f:\n",
    "        print(line, end='\\n')"
   ]
  },
  {
   "cell_type": "code",
   "execution_count": 5,
   "id": "b088d5dd",
   "metadata": {},
   "outputs": [
    {
     "name": "stdout",
     "output_type": "stream",
     "text": [
      "10: Will &\n",
      " Grace\n",
      "20:\n",
      " Gunsmoke;\n",
      "Law & Orde\n",
      "r\n",
      "30: The \n",
      "Simpsons..\n",
      "...\n"
     ]
    }
   ],
   "source": [
    "# to get more control of the exact contents that are being read\n",
    "with open('output_keys.txt', 'r') as f:\n",
    "    size_to_read = 10\n",
    "    f_content = f.read(size_to_read)\n",
    "#     print(f_content, end = '')\n",
    "    while len(f_content) > 0:\n",
    "        print(f_content, end = '\\n')\n",
    "        f_content = f.read(size_to_read)"
   ]
  },
  {
   "cell_type": "code",
   "execution_count": 6,
   "id": "b85db963",
   "metadata": {},
   "outputs": [
    {
     "name": "stdout",
     "output_type": "stream",
     "text": [
      "0\n",
      "50\n"
     ]
    }
   ],
   "source": [
    "# to print out the current cursor point of the file\n",
    "\n",
    "with open('output_keys.txt', 'r') as f:\n",
    "    print(f.tell())\n",
    "    size_to_read = 50\n",
    "    f_content = f.read(size_to_read)\n",
    "    print(f.tell())"
   ]
  },
  {
   "cell_type": "code",
   "execution_count": 7,
   "id": "1d208621",
   "metadata": {},
   "outputs": [
    {
     "name": "stdout",
     "output_type": "stream",
     "text": [
      "0\n",
      "50\n"
     ]
    }
   ],
   "source": [
    "# set the cursor position in the file\n",
    "with open('output_keys.txt', 'r') as f:\n",
    "    print(f.tell())\n",
    "    f.seek(50)\n",
    "    print(f.tell())"
   ]
  },
  {
   "cell_type": "code",
   "execution_count": 8,
   "id": "c28eca20",
   "metadata": {},
   "outputs": [],
   "source": [
    "# writing to a file\n",
    "with open('output_keys.txt', 'w') as f:\n",
    "    f.write(\"\"\"10: Will & Grace\n",
    "20: Gunsmoke;Law & Order\n",
    "30: The Simpsons.....\"\"\")"
   ]
  },
  {
   "cell_type": "code",
   "execution_count": 9,
   "id": "8042d790",
   "metadata": {},
   "outputs": [
    {
     "name": "stdout",
     "output_type": "stream",
     "text": [
      "10: Will & Grace\n",
      "20: Gunsmoke;Law & Order\n",
      "30: The Simpsons.....\n"
     ]
    }
   ],
   "source": [
    "with open('output_keys.txt', 'r') as f:\n",
    "    print(f.read())"
   ]
  },
  {
   "cell_type": "code",
   "execution_count": 10,
   "id": "98df41ba",
   "metadata": {},
   "outputs": [],
   "source": [
    "# read a file and make a copy\n",
    "with open('output_keys.txt', 'r') as rf1:\n",
    "    with open('output_titles.txt', 'r') as rf2:\n",
    "        with open('test.txt', 'w') as wf:\n",
    "            for line in rf1:\n",
    "                wf.write(line)\n",
    "            wf.write(\"\\n\")\n",
    "            for line in rf2:\n",
    "                wf.write(line)\n",
    "    "
   ]
  },
  {
   "cell_type": "code",
   "execution_count": 11,
   "id": "f057a9eb",
   "metadata": {},
   "outputs": [
    {
     "name": "stdout",
     "output_type": "stream",
     "text": [
      "10: Will & Grace\n",
      "20: Gunsmoke;Law & Order\n",
      "30: The Simpsons.....\n",
      "Dallas\n",
      "Gunsmoke\n",
      "Law & Order\n",
      "Murder, She Wrote\n",
      "The Simpsons\n",
      "Will & Grace\n",
      "\n"
     ]
    }
   ],
   "source": [
    "with open('test.txt', 'r') as f:\n",
    "    print(f.read())"
   ]
  },
  {
   "cell_type": "code",
   "execution_count": 12,
   "id": "69d60d27",
   "metadata": {},
   "outputs": [],
   "source": [
    "# read an image file and make a copy \n",
    "with open('y.jpg', 'rb') as rf:\n",
    "    with open('t.jpg', 'wb') as wf:\n",
    "        for line in rf:\n",
    "            wf.write(line)"
   ]
  },
  {
   "cell_type": "code",
   "execution_count": 13,
   "id": "7603aa6d",
   "metadata": {},
   "outputs": [
    {
     "name": "stdout",
     "output_type": "stream",
     "text": [
      "Hlo\n",
      "dlrow olleH\n"
     ]
    }
   ],
   "source": [
    "# Reverse a string\n",
    "string = \"Hello world\"\n",
    "print(string[0:5:2])\n",
    "print(string[::-1])"
   ]
  },
  {
   "cell_type": "code",
   "execution_count": 14,
   "id": "663d710f",
   "metadata": {},
   "outputs": [
    {
     "name": "stdout",
     "output_type": "stream",
     "text": [
      "str1 contains str2\n"
     ]
    }
   ],
   "source": [
    "str1 = \"Hello world\"\n",
    "str2 = \"Hello\"\n",
    "if str2 in str1:\n",
    "    print(\"str1 contains str2\")\n",
    "else:\n",
    "    print(\"Nope\")"
   ]
  },
  {
   "cell_type": "code",
   "execution_count": 15,
   "id": "b39bc5c6",
   "metadata": {},
   "outputs": [
    {
     "name": "stdout",
     "output_type": "stream",
     "text": [
      "['Hello', 'world.', '?', '!']\n",
      "! ? world. Hello\n"
     ]
    }
   ],
   "source": [
    "sentence = \"Hello world. ? !\"\n",
    "listOfWords = sentence.split()\n",
    "print(listOfWords)\n",
    "reversed_str = ' '.join(reversed(listOfWords))\n",
    "print(reversed_str)"
   ]
  }
 ],
 "metadata": {
  "kernelspec": {
   "display_name": "Python 3",
   "language": "python",
   "name": "python3"
  },
  "language_info": {
   "codemirror_mode": {
    "name": "ipython",
    "version": 3
   },
   "file_extension": ".py",
   "mimetype": "text/x-python",
   "name": "python",
   "nbconvert_exporter": "python",
   "pygments_lexer": "ipython3",
   "version": "3.6.13"
  }
 },
 "nbformat": 4,
 "nbformat_minor": 5
}
