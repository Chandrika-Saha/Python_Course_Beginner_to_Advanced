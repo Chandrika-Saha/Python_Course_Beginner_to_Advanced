{
 "cells": [
  {
   "cell_type": "markdown",
   "id": "dc26b3ef",
   "metadata": {},
   "source": [
    "# Python: Functions"
   ]
  },
  {
   "cell_type": "code",
   "execution_count": 1,
   "id": "09ef3fba",
   "metadata": {},
   "outputs": [
    {
     "data": {
      "text/plain": [
       "'Hello World'"
      ]
     },
     "execution_count": 1,
     "metadata": {},
     "output_type": "execute_result"
    }
   ],
   "source": [
    "def hello_func():\n",
    "    return \"Hello World\"\n",
    "#     print(\"Hello World\")\n",
    "#     print(hello_func())\n",
    "\n",
    "hello_func()"
   ]
  },
  {
   "cell_type": "code",
   "execution_count": 2,
   "id": "0816ef0c",
   "metadata": {},
   "outputs": [
    {
     "name": "stdout",
     "output_type": "stream",
     "text": [
      "Hello World\n"
     ]
    }
   ],
   "source": [
    "message = hello_func()\n",
    "print(message)"
   ]
  },
  {
   "cell_type": "code",
   "execution_count": 3,
   "id": "0e68f7a0",
   "metadata": {},
   "outputs": [
    {
     "name": "stdout",
     "output_type": "stream",
     "text": [
      "This is a test!\n"
     ]
    }
   ],
   "source": [
    "#st = \"This is a test!\"\n",
    "def hello_func(string):\n",
    "    return string\n",
    "\n",
    "string = \"This is a test!\"\n",
    "print(hello_func(string))"
   ]
  },
  {
   "cell_type": "code",
   "execution_count": 4,
   "id": "1d703989",
   "metadata": {},
   "outputs": [
    {
     "name": "stdout",
     "output_type": "stream",
     "text": [
      "Enter a number: 2\n",
      "Cube of the number is:  8\n"
     ]
    }
   ],
   "source": [
    "def cube(number):\n",
    "    # number = num\n",
    "    result = number ** 3\n",
    "    return result\n",
    "\n",
    "num = int(input(\"Enter a number: \"))\n",
    "print(\"Cube of the number is: \", cube(num))"
   ]
  },
  {
   "cell_type": "code",
   "execution_count": 5,
   "id": "04b96968",
   "metadata": {},
   "outputs": [
    {
     "name": "stdout",
     "output_type": "stream",
     "text": [
      "Multiplication of 3 Numbers is:  6\n"
     ]
    }
   ],
   "source": [
    "def multiply_numbers(a, b, c):\n",
    "    multiply = a * b * c\n",
    "    return multiply\n",
    "\n",
    "print(\"Multiplication of 3 Numbers is: \", multiply_numbers(1, 2, 3))"
   ]
  },
  {
   "cell_type": "code",
   "execution_count": 6,
   "id": "fdb1b467",
   "metadata": {},
   "outputs": [
    {
     "name": "stdout",
     "output_type": "stream",
     "text": [
      "Enter a number to know the factorial: 45\n",
      "The factorial of 45 is 119622220865480194561963161495657715064383733760000000000\n"
     ]
    }
   ],
   "source": [
    "def factorial(num):\n",
    "    factorial = 1\n",
    "    # 4! = 1 * 2 * 3 * 4\n",
    "    for i in range(2, num + 1): # 2, 3, 4 \n",
    "        factorial *= i # factoral = factoral * i, factorial = 1 * 2 = 2, factorial = 2 * 3 = 6, factorial = 6 * 4 = 24\n",
    "\n",
    "    return factorial\n",
    "    \n",
    "num = int(input(\"Enter a number to know the factorial: \"))\n",
    "print(\"The factorial of\", num, \"is\", factorial(num))\n",
    "            "
   ]
  },
  {
   "cell_type": "code",
   "execution_count": 7,
   "id": "d5f76184",
   "metadata": {},
   "outputs": [
    {
     "name": "stdout",
     "output_type": "stream",
     "text": [
      "('Math', 'Art', 1, 22, 'Hello')\n",
      "{'name': 'John', 'age': 22, 'phone': 344}\n"
     ]
    }
   ],
   "source": [
    "def student_info(*args, **kwargs):\n",
    "    print(args)\n",
    "    print(kwargs)\n",
    "    \n",
    "student_info('Math', 'Art', 1, 22, \"Hello\", name = \"John\", age = 22, phone = 344)"
   ]
  },
  {
   "cell_type": "code",
   "execution_count": 8,
   "id": "065adea4",
   "metadata": {},
   "outputs": [
    {
     "name": "stdout",
     "output_type": "stream",
     "text": [
      "Enter the month: 3\n",
      "Enter the year: 1999\n",
      "The Number of days:  31\n"
     ]
    }
   ],
   "source": [
    "# Calculate the days in a month\n",
    "\n",
    "days = [0, 31, 28, 31, 30, 31, 30, 31, 31, 30, 31, 30, 31]\n",
    "\n",
    "def is_leap_year(year):\n",
    "    \n",
    "    return year%4 == 0 and year%100 != 0 or year%400 == 0\n",
    "\n",
    "\n",
    "def num_days_per_month(year, month):\n",
    "    \n",
    "    if not (1 <= month <= 12):\n",
    "        return \"Invalid Month!\"\n",
    "    \n",
    "    if month == 2 and is_leap_year(year):\n",
    "        return 29\n",
    "    \n",
    "    return days[month]\n",
    "\n",
    "month = int(input(\"Enter the month: \"))\n",
    "year = int(input(\"Enter the year: \"))\n",
    "\n",
    "print(\"The Number of days: \", num_days_per_month(year, month))"
   ]
  }
 ],
 "metadata": {
  "kernelspec": {
   "display_name": "Python 3",
   "language": "python",
   "name": "python3"
  },
  "language_info": {
   "codemirror_mode": {
    "name": "ipython",
    "version": 3
   },
   "file_extension": ".py",
   "mimetype": "text/x-python",
   "name": "python",
   "nbconvert_exporter": "python",
   "pygments_lexer": "ipython3",
   "version": "3.6.13"
  }
 },
 "nbformat": 4,
 "nbformat_minor": 5
}
