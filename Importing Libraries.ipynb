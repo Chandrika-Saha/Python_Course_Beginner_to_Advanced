{
 "cells": [
  {
   "cell_type": "markdown",
   "id": "206c1372",
   "metadata": {},
   "source": [
    "# Importing Libraries"
   ]
  },
  {
   "cell_type": "code",
   "execution_count": 1,
   "id": "cca4ed15",
   "metadata": {},
   "outputs": [
    {
     "name": "stdout",
     "output_type": "stream",
     "text": [
      "Art\n"
     ]
    }
   ],
   "source": [
    "import random\n",
    "\n",
    "courses = [\"Art\", \"Math\", \"Science\", \"History\"]\n",
    "\n",
    "random_courses = random.choice(courses)\n",
    "\n",
    "print(random_courses)"
   ]
  },
  {
   "cell_type": "code",
   "execution_count": 2,
   "id": "813aeb60",
   "metadata": {},
   "outputs": [
    {
     "name": "stdout",
     "output_type": "stream",
     "text": [
      "['Math', 'Art', 'Science', 'History']\n"
     ]
    }
   ],
   "source": [
    "random.shuffle(courses)\n",
    "print(courses)"
   ]
  },
  {
   "cell_type": "code",
   "execution_count": 3,
   "id": "cf874639",
   "metadata": {},
   "outputs": [
    {
     "name": "stdout",
     "output_type": "stream",
     "text": [
      "['Science', 'Math']\n"
     ]
    }
   ],
   "source": [
    "random_sample = random.sample(courses, 2)\n",
    "print(random_sample)"
   ]
  },
  {
   "cell_type": "code",
   "execution_count": 4,
   "id": "1a142a51",
   "metadata": {},
   "outputs": [
    {
     "name": "stdout",
     "output_type": "stream",
     "text": [
      "7\n"
     ]
    }
   ],
   "source": [
    "random_number = random.randint(1, 10)\n",
    "print(random_number)"
   ]
  },
  {
   "cell_type": "code",
   "execution_count": 5,
   "id": "9f15671f",
   "metadata": {},
   "outputs": [
    {
     "name": "stdout",
     "output_type": "stream",
     "text": [
      "0.8991642102752981\n"
     ]
    }
   ],
   "source": [
    "random_float = random.random() #* 10\n",
    "print(random_float)"
   ]
  },
  {
   "cell_type": "code",
   "execution_count": 6,
   "id": "1adeb878",
   "metadata": {},
   "outputs": [
    {
     "name": "stdout",
     "output_type": "stream",
     "text": [
      "/Users/chandrikasaha/Desktop/Python Coding\n",
      "/Users/chandrikasaha/opt/anaconda3/envs/tf_keras/lib/python3.6/os.py\n",
      "['Untitled Folder', 'Basics.ipynb', 'For and While loops.ipynb', 'output_titles.txt', 'pokemon_data.csv', 'Strings HW.ipynb', 'file1.txt', 'StarTurtle.ipynb', 'Dragon.ipynb', 'changed.csv', 'Untitled1.ipynb', 'LLM', '.DS_Store', 'python loop hw solutions.docx', 'Basics Strings.ipynb', 'y.jpg', 'Numeric Operations.docx', 'Parachuter.ipynb', 'outlier1.ipynb', 'Python_Loop_HW.docx', 'Untitled.ipynb', 'Get info on Variable or Data Types.ipynb', 'For Loop HW.ipynb', 'testing.txt', 'Exercise.ipynb', 'Python_Loop_HW.pdf', 'Basics-Copy1.ipynb', 'finals.ipynb', 'Dictionary.ipynb', 'testing1.txt', 'test.json', 'Lambdas.ipynb', 'Loops.ipynb', 'Outlier ALL files', 'lambda_solutions.pdf', 'CheckingData.ipynb', ' numerical integration approx.ipynb', 'Input.txt', 'Pandas_Homeworks.pdf', 'Functions.ipynb', 'untitled.txt', 'input1.csv', 'recursion.ipynb', 'For Loop Pyramid.ipynb', 'PythonBusiness.ipynb', 'VT.ipynb', 'examples.ipynb', 'someExampleValidate sentence draw cat.ipynb', 'demo codes.ipynb', 'Dragon-Copy1.ipynb', 'output_keys.txt', 'Numeric Operations.pdf', 'lambda.docx', 'NewDir2', 'lambda.pdf', 'B_c4geneealm_tl.json', 'finding log 2.ipynb', 'json.ipynb', 'NewDir3', 'NewDir4', 'test.txt', '.ipynb_checkpoints', 'new_text.json', 'List Tuple Set.ipynb', 'Basics Numbers.ipynb', 'changed2.csv', 't.jpg', 'Pandas Exercises and solutions.docx', 'NLTK.ipynb', 'Output.txt', 'OutlierFullStack.ipynb', '03-Control_1pp.pdf', 'Pandas Exercises and solutions.pdf', 'pie.png']\n"
     ]
    },
    {
     "ename": "FileExistsError",
     "evalue": "[Errno 17] File exists: 'NewDir4'",
     "output_type": "error",
     "traceback": [
      "\u001b[0;31m---------------------------------------------------------------------------\u001b[0m",
      "\u001b[0;31mFileExistsError\u001b[0m                           Traceback (most recent call last)",
      "\u001b[0;32m<ipython-input-6-8ee801b01a30>\u001b[0m in \u001b[0;36m<module>\u001b[0;34m\u001b[0m\n\u001b[1;32m      4\u001b[0m \u001b[0mprint\u001b[0m\u001b[0;34m(\u001b[0m\u001b[0mos\u001b[0m\u001b[0;34m.\u001b[0m\u001b[0m__file__\u001b[0m\u001b[0;34m)\u001b[0m\u001b[0;34m\u001b[0m\u001b[0;34m\u001b[0m\u001b[0m\n\u001b[1;32m      5\u001b[0m \u001b[0mprint\u001b[0m\u001b[0;34m(\u001b[0m\u001b[0mos\u001b[0m\u001b[0;34m.\u001b[0m\u001b[0mlistdir\u001b[0m\u001b[0;34m(\u001b[0m\u001b[0;34m\"/Users/chandrikasaha/Desktop/Python Coding\"\u001b[0m\u001b[0;34m)\u001b[0m\u001b[0;34m)\u001b[0m\u001b[0;34m\u001b[0m\u001b[0;34m\u001b[0m\u001b[0m\n\u001b[0;32m----> 6\u001b[0;31m \u001b[0mos\u001b[0m\u001b[0;34m.\u001b[0m\u001b[0mmkdir\u001b[0m\u001b[0;34m(\u001b[0m\u001b[0;34m\"NewDir4\"\u001b[0m\u001b[0;34m)\u001b[0m\u001b[0;34m\u001b[0m\u001b[0;34m\u001b[0m\u001b[0m\n\u001b[0m\u001b[1;32m      7\u001b[0m \u001b[0mprint\u001b[0m\u001b[0;34m(\u001b[0m\u001b[0mos\u001b[0m\u001b[0;34m.\u001b[0m\u001b[0mlistdir\u001b[0m\u001b[0;34m(\u001b[0m\u001b[0;34m\"/Users/chandrikasaha/Desktop/Python Coding\"\u001b[0m\u001b[0;34m)\u001b[0m\u001b[0;34m)\u001b[0m\u001b[0;34m\u001b[0m\u001b[0;34m\u001b[0m\u001b[0m\n",
      "\u001b[0;31mFileExistsError\u001b[0m: [Errno 17] File exists: 'NewDir4'"
     ]
    }
   ],
   "source": [
    "import os\n",
    "\n",
    "print(os.getcwd())\n",
    "print(os.__file__)\n",
    "print(os.listdir(\"/Users/chandrikasaha/Desktop/Python Coding\"))\n",
    "os.mkdir(\"NewDir4\")\n",
    "print(os.listdir(\"/Users/chandrikasaha/Desktop/Python Coding\"))"
   ]
  },
  {
   "cell_type": "code",
   "execution_count": null,
   "id": "492e2409",
   "metadata": {},
   "outputs": [],
   "source": [
    "file_path = \"Dragon.ipynb\"\n",
    "\n",
    "# Check if the file exists\n",
    "if os.path.exists(file_path):\n",
    "    print(\"File exists:\", file_path)\n",
    "else:\n",
    "    print(\"File does not exist:\", file_path)"
   ]
  },
  {
   "cell_type": "code",
   "execution_count": null,
   "id": "466e2661",
   "metadata": {},
   "outputs": [],
   "source": [
    "import math\n",
    "\n",
    "rads = math.radians(90)\n",
    "print(rads)"
   ]
  },
  {
   "cell_type": "code",
   "execution_count": null,
   "id": "4a46919a",
   "metadata": {},
   "outputs": [],
   "source": [
    "print(help(math))"
   ]
  },
  {
   "cell_type": "code",
   "execution_count": null,
   "id": "f91a80bb",
   "metadata": {},
   "outputs": [],
   "source": [
    "print(math.factorial(4000000))"
   ]
  },
  {
   "cell_type": "code",
   "execution_count": null,
   "id": "e7fdf267",
   "metadata": {},
   "outputs": [],
   "source": [
    "print(math.pow(100, 100))"
   ]
  },
  {
   "cell_type": "code",
   "execution_count": null,
   "id": "773a134d",
   "metadata": {},
   "outputs": [],
   "source": [
    "print(100 ** 100)"
   ]
  },
  {
   "cell_type": "code",
   "execution_count": null,
   "id": "01f9af1b",
   "metadata": {},
   "outputs": [],
   "source": [
    "num = 3.9\n",
    "print(math.ceil(num))\n",
    "print(math.floor(num))"
   ]
  },
  {
   "cell_type": "code",
   "execution_count": null,
   "id": "db3525a4",
   "metadata": {},
   "outputs": [],
   "source": [
    "import datetime\n",
    "import calendar\n",
    "\n",
    "today = datetime.date.today()\n",
    "print(today)\n",
    "print(calendar.isleap(1996))"
   ]
  },
  {
   "cell_type": "code",
   "execution_count": null,
   "id": "7a6bbdd6",
   "metadata": {},
   "outputs": [],
   "source": [
    "print(help(datetime))"
   ]
  },
  {
   "cell_type": "code",
   "execution_count": null,
   "id": "c346c90a",
   "metadata": {},
   "outputs": [],
   "source": [
    "# Example 1: Using datetime module to work with dates and times\n",
    "# Get the current date and time\n",
    "current_datetime = datetime.datetime.now()\n",
    "print(\"Current date and time:\", current_datetime)\n",
    "\n",
    "\n",
    "# Create a specific date\n",
    "specific_date = datetime.date(2024, 4, 22)\n",
    "formatted_specific_date = specific_date.strftime(\"%m-%d-%y\")\n",
    "print(\"Specific date:\", specific_date)\n",
    "print(\"Formatted date: \", formatted_specific_date )\n",
    "\n",
    "# Example 2: Using calendar module to work with calendars\n",
    "# Get the calendar for a specific month and year\n",
    "year = 2024\n",
    "month = 10\n",
    "cal = calendar.month(year, month)\n",
    "print(cal)\n"
   ]
  }
 ],
 "metadata": {
  "kernelspec": {
   "display_name": "Python 3",
   "language": "python",
   "name": "python3"
  },
  "language_info": {
   "codemirror_mode": {
    "name": "ipython",
    "version": 3
   },
   "file_extension": ".py",
   "mimetype": "text/x-python",
   "name": "python",
   "nbconvert_exporter": "python",
   "pygments_lexer": "ipython3",
   "version": "3.6.13"
  }
 },
 "nbformat": 4,
 "nbformat_minor": 5
}
