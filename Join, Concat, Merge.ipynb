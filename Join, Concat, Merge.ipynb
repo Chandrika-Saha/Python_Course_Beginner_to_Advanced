{
 "cells": [
  {
   "cell_type": "markdown",
   "id": "6c2b5c54",
   "metadata": {},
   "source": [
    "# Merge (join), Concat / Append in Pandas"
   ]
  },
  {
   "cell_type": "code",
   "execution_count": null,
   "id": "33ea93d0",
   "metadata": {},
   "outputs": [],
   "source": [
    "import pandas as pd\n",
    "\n",
    "table1 = pd.DataFrame(data = {'col1': [1, 2, 3], 'col2': [4, 5, 6]})\n",
    "table2 = pd.DataFrame(data = {'col1': [4, 5, 6], 'col2': [7, 8, 9]})\n",
    "table3 = pd.DataFrame(data = {'col3': [1, 1, 2], 'col4': [4, 4, 6]})\n",
    "print(table1)\n",
    "print(table2)\n",
    "print(table3)"
   ]
  },
  {
   "cell_type": "code",
   "execution_count": null,
   "id": "0401214c",
   "metadata": {},
   "outputs": [],
   "source": [
    "pd.concat([table1, table2])"
   ]
  },
  {
   "cell_type": "code",
   "execution_count": null,
   "id": "223fddc9",
   "metadata": {},
   "outputs": [],
   "source": [
    "table1.append(table2)"
   ]
  },
  {
   "cell_type": "code",
   "execution_count": null,
   "id": "7393c933",
   "metadata": {},
   "outputs": [],
   "source": [
    "pd.concat([table1, table3])"
   ]
  },
  {
   "cell_type": "code",
   "execution_count": null,
   "id": "9673e5df",
   "metadata": {},
   "outputs": [],
   "source": [
    "pd.concat([table1, table3], axis = 1) # axis 1->`across columns`, axis 0 -> `across row`"
   ]
  },
  {
   "cell_type": "code",
   "execution_count": null,
   "id": "aa159a5f",
   "metadata": {},
   "outputs": [],
   "source": [
    "print(table1)\n",
    "print(table2)\n",
    "pd.merge(table1, table2, on='col2', how='right')"
   ]
  },
  {
   "cell_type": "code",
   "execution_count": null,
   "id": "30cddff0",
   "metadata": {},
   "outputs": [],
   "source": [
    "table1 = pd.DataFrame(data = {'col1': [1, 2, 3], 'col2': [4, 5, 6]})\n",
    "table2 = pd.DataFrame(data = {'col1': [4, 5, 6], 'col2': [4, 5, 9]})\n",
    "table3 = pd.DataFrame(data = {'col3': [1, 1, 2], 'col4': [4, 4, 6]})\n",
    "print(table1)\n",
    "print(table2)\n",
    "pd.merge(table1, table2, on='col2', how='outer') # other joins: left, right, inner, outer"
   ]
  },
  {
   "cell_type": "code",
   "execution_count": null,
   "id": "8ac60ae1",
   "metadata": {},
   "outputs": [],
   "source": [
    "table1 = pd.DataFrame(data = {'col1': [1, 2, 3], 'col2': [4, 5, 6]})\n",
    "table2 = pd.DataFrame(data = {'col1': [4, 5, 6], 'col2': [4, 5, 9]})\n",
    "table3 = pd.DataFrame(data = {'col3': [1, 1, 2], 'col4': [6, 8, 9]})\n",
    "print(table1)\n",
    "print(table3)\n",
    "pd.merge(table1, table3, left_on='col2', right_on='col4', how='left')"
   ]
  },
  {
   "cell_type": "code",
   "execution_count": null,
   "id": "88468732",
   "metadata": {},
   "outputs": [],
   "source": [
    "print(table1)\n",
    "print(table3)\n",
    "\n",
    "# col1 col2 col3 col4\n",
    "# 1, 4, 1, 4\n",
    "# 1, 4, 1, 4\n",
    "# 2, 5, 2, 6\n",
    "# 3, 6, NaN, NaN\n",
    "pd.merge(table1, table3, left_on='col2', right_on='col4', how='outer')"
   ]
  },
  {
   "cell_type": "code",
   "execution_count": null,
   "id": "a18b869a",
   "metadata": {},
   "outputs": [],
   "source": [
    "print(table1)\n",
    "print(table3)\n",
    "pd.merge(table1, table3, left_on='col2', right_on='col4', how='inner')"
   ]
  },
  {
   "cell_type": "code",
   "execution_count": null,
   "id": "0d7cad87",
   "metadata": {},
   "outputs": [],
   "source": [
    "print(table1)\n",
    "print(table3)\n",
    "pd.merge(table1, table3, left_on='col2', right_on='col4', how='right')"
   ]
  },
  {
   "cell_type": "markdown",
   "id": "491acd8c",
   "metadata": {},
   "source": [
    "# Pivot Table"
   ]
  },
  {
   "cell_type": "code",
   "execution_count": null,
   "id": "899da186",
   "metadata": {},
   "outputs": [],
   "source": [
    "def read_data():\n",
    "    pokemon = pd.read_csv('pokemon_data.csv')\n",
    "    return pokemon\n",
    "\n",
    "df = read_data()\n",
    "df"
   ]
  },
  {
   "cell_type": "code",
   "execution_count": null,
   "id": "ad9e675f",
   "metadata": {},
   "outputs": [],
   "source": [
    "pd.pivot_table(df, index = 'Type 1', values=['HP','Attack', 'Defense'], aggfunc='mean')"
   ]
  },
  {
   "cell_type": "code",
   "execution_count": null,
   "id": "73f00e78",
   "metadata": {},
   "outputs": [],
   "source": [
    "pd.pivot_table(df, index = 'Type 1', values=['HP','Attack', 'Defense'], aggfunc='mean').reset_index()"
   ]
  },
  {
   "cell_type": "code",
   "execution_count": null,
   "id": "a9f24017",
   "metadata": {},
   "outputs": [],
   "source": [
    "pd.pivot_table(df, index = 'Type 1', values=['HP','Attack', 'Defense'], aggfunc='std')"
   ]
  },
  {
   "cell_type": "code",
   "execution_count": null,
   "id": "8faf4bfa",
   "metadata": {},
   "outputs": [],
   "source": [
    "mean_data = pd.pivot_table(df, index = 'Type 1', values=['HP','Attack', 'Defense'], aggfunc='mean').reset_index()\n",
    "mean_data.columns = ['Type 1', 'Mean HP', 'Mean Attack', 'Mean Defense']\n",
    "print(mean_data)\n",
    "var_data = pd.pivot_table(df, index = 'Type 1', values=['HP','Attack', 'Defense'], aggfunc='var').reset_index()\n",
    "var_data.columns = ['Type 1', 'Var HP', 'Var Attack', 'Var Defense']\n",
    "var_data"
   ]
  },
  {
   "cell_type": "code",
   "execution_count": null,
   "id": "b0ebe33c",
   "metadata": {},
   "outputs": [],
   "source": [
    "pd.merge(mean_data, var_data, on='Type 1', how='left')"
   ]
  },
  {
   "cell_type": "markdown",
   "id": "997a51ff",
   "metadata": {},
   "source": [
    "# Stacking"
   ]
  },
  {
   "cell_type": "code",
   "execution_count": null,
   "id": "f1522cbe",
   "metadata": {},
   "outputs": [],
   "source": [
    "df.stack()"
   ]
  },
  {
   "cell_type": "code",
   "execution_count": null,
   "id": "af301cfd",
   "metadata": {},
   "outputs": [],
   "source": [
    "df.iloc[0]['Name']"
   ]
  },
  {
   "cell_type": "code",
   "execution_count": null,
   "id": "913bb3ed",
   "metadata": {},
   "outputs": [],
   "source": [
    "pd.DataFrame(df.stack())"
   ]
  },
  {
   "cell_type": "code",
   "execution_count": null,
   "id": "6b68d7e9",
   "metadata": {},
   "outputs": [],
   "source": [
    "df.stack().unstack()"
   ]
  },
  {
   "cell_type": "markdown",
   "id": "a5c98432",
   "metadata": {},
   "source": [
    "# Conversion"
   ]
  },
  {
   "cell_type": "code",
   "execution_count": null,
   "id": "bf7d46e4",
   "metadata": {},
   "outputs": [],
   "source": [
    "df.info()"
   ]
  },
  {
   "cell_type": "code",
   "execution_count": null,
   "id": "47b95d1f",
   "metadata": {},
   "outputs": [],
   "source": [
    "df['Type 1'] = df['Type 1'].astype('category')"
   ]
  },
  {
   "cell_type": "code",
   "execution_count": null,
   "id": "a9ea72d6",
   "metadata": {},
   "outputs": [],
   "source": [
    "df.info()"
   ]
  },
  {
   "cell_type": "code",
   "execution_count": null,
   "id": "a3a52243",
   "metadata": {},
   "outputs": [],
   "source": [
    "df['Attack'] = df['Attack'].astype('float32')"
   ]
  },
  {
   "cell_type": "code",
   "execution_count": null,
   "id": "8f57446d",
   "metadata": {},
   "outputs": [],
   "source": [
    "df.info()"
   ]
  },
  {
   "cell_type": "markdown",
   "id": "6bec3d9f",
   "metadata": {},
   "source": [
    "### Other conversions:\n",
    "<li> to_datetime</li>\n",
    "    <li> to_timedelta\n",
    "    <li> to_numeric\n",
    "        <li> numpy.ndarray.astype"
   ]
  },
  {
   "cell_type": "code",
   "execution_count": null,
   "id": "956b42ec",
   "metadata": {},
   "outputs": [],
   "source": []
  }
 ],
 "metadata": {
  "kernelspec": {
   "display_name": "Python 3",
   "language": "python",
   "name": "python3"
  },
  "language_info": {
   "codemirror_mode": {
    "name": "ipython",
    "version": 3
   },
   "file_extension": ".py",
   "mimetype": "text/x-python",
   "name": "python",
   "nbconvert_exporter": "python",
   "pygments_lexer": "ipython3",
   "version": "3.6.13"
  }
 },
 "nbformat": 4,
 "nbformat_minor": 5
}
