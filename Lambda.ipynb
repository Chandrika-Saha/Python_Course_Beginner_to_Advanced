{
 "cells": [
  {
   "cell_type": "markdown",
   "id": "b03565b5",
   "metadata": {},
   "source": [
    "### Lamda function in Python"
   ]
  },
  {
   "cell_type": "code",
   "execution_count": 1,
   "id": "a19677e0",
   "metadata": {},
   "outputs": [
    {
     "name": "stdout",
     "output_type": "stream",
     "text": [
      "11\n",
      "6\n"
     ]
    }
   ],
   "source": [
    "# function without `def`\n",
    "# anything after the `lambda` keyword is treated as an argument\n",
    "add = lambda a, b: a + b\n",
    "print(add(3, 8))\n",
    "\n",
    "def add2(a = 4 , b = 2):\n",
    "    return a + b\n",
    "print(add2())"
   ]
  },
  {
   "cell_type": "code",
   "execution_count": 2,
   "id": "b5902f0c",
   "metadata": {},
   "outputs": [
    {
     "data": {
      "text/plain": [
       "15"
      ]
     },
     "execution_count": 2,
     "metadata": {},
     "output_type": "execute_result"
    }
   ],
   "source": [
    "add = lambda a: a + 5\n",
    "add(10)"
   ]
  },
  {
   "cell_type": "code",
   "execution_count": 3,
   "id": "dec30dd6",
   "metadata": {},
   "outputs": [
    {
     "data": {
      "text/plain": [
       "15"
      ]
     },
     "execution_count": 3,
     "metadata": {},
     "output_type": "execute_result"
    }
   ],
   "source": [
    "# lambda without assigning it to a variable\n",
    "# Immediately Envoked Function Expression\n",
    "(lambda a, b: a * b)(3, 5)"
   ]
  },
  {
   "cell_type": "code",
   "execution_count": 4,
   "id": "3fa8eee1",
   "metadata": {},
   "outputs": [
    {
     "name": "stdout",
     "output_type": "stream",
     "text": [
      "5\n"
     ]
    }
   ],
   "source": [
    "product = lambda x, y, z = 7: x * y * z\n",
    "print(product(z = 5, x = 1, y = 1))"
   ]
  },
  {
   "cell_type": "code",
   "execution_count": 5,
   "id": "38ef81f0",
   "metadata": {},
   "outputs": [
    {
     "name": "stdout",
     "output_type": "stream",
     "text": [
      "17\n"
     ]
    }
   ],
   "source": [
    "add = lambda x, y = 15, z = 1: x + y + z\n",
    "print(add(1))"
   ]
  },
  {
   "cell_type": "code",
   "execution_count": 6,
   "id": "9b6343b6",
   "metadata": {},
   "outputs": [
    {
     "name": "stdout",
     "output_type": "stream",
     "text": [
      "21\n"
     ]
    }
   ],
   "source": [
    "add = lambda *args: sum(args)\n",
    "print(add(1, 2, 3, 4, 5, 6))"
   ]
  },
  {
   "cell_type": "code",
   "execution_count": 7,
   "id": "097e25e0",
   "metadata": {},
   "outputs": [
    {
     "data": {
      "text/plain": [
       "30"
      ]
     },
     "execution_count": 7,
     "metadata": {},
     "output_type": "execute_result"
    }
   ],
   "source": [
    "higher_ord = lambda x, fun: x + fun(x)\n",
    "higher_ord(5, lambda x: x * x)"
   ]
  },
  {
   "cell_type": "code",
   "execution_count": 8,
   "id": "5a9e46bb",
   "metadata": {},
   "outputs": [
    {
     "name": "stdout",
     "output_type": "stream",
     "text": [
      "2\n"
     ]
    }
   ],
   "source": [
    "print(12 % 5)"
   ]
  },
  {
   "cell_type": "code",
   "execution_count": 9,
   "id": "7745375d",
   "metadata": {},
   "outputs": [
    {
     "data": {
      "text/plain": [
       "'even'"
      ]
     },
     "execution_count": 9,
     "metadata": {},
     "output_type": "execute_result"
    }
   ],
   "source": [
    "(lambda x : (x % 2) and 'odd' or 'even')(12)\n",
    "# 1 and 'odd' or 'even' -> 'odd'\n",
    "# 0 and 'odd' or 'even' -> 'even'"
   ]
  },
  {
   "cell_type": "code",
   "execution_count": 10,
   "id": "61bed1d9",
   "metadata": {},
   "outputs": [
    {
     "data": {
      "text/plain": [
       "False"
      ]
     },
     "execution_count": 10,
     "metadata": {},
     "output_type": "execute_result"
    }
   ],
   "source": [
    "sub_string = lambda string : string in \"Python Lessons\" \n",
    "sub_string(\"java\")"
   ]
  },
  {
   "cell_type": "code",
   "execution_count": 11,
   "id": "431e157e",
   "metadata": {},
   "outputs": [
    {
     "name": "stdout",
     "output_type": "stream",
     "text": [
      "[160, 240, 400]\n"
     ]
    }
   ],
   "source": [
    "nums = [10, 40, 80, 160, 240, 400]\n",
    "greater = list(filter(lambda num: num > 80, nums))\n",
    "print(greater)"
   ]
  },
  {
   "cell_type": "code",
   "execution_count": 12,
   "id": "ce784927",
   "metadata": {},
   "outputs": [
    {
     "name": "stdout",
     "output_type": "stream",
     "text": [
      "[4, 8, 16, 32, 64, 128, 256]\n"
     ]
    }
   ],
   "source": [
    "nums = [2, 4, 6, 8, 16, 32, 64, 128, 256]\n",
    "divide = list(filter(lambda x : (x%4 == 0), nums))\n",
    "print(divide)"
   ]
  },
  {
   "cell_type": "code",
   "execution_count": 13,
   "id": "8f74d3fd",
   "metadata": {},
   "outputs": [
    {
     "name": "stdout",
     "output_type": "stream",
     "text": [
      "[4, 8, 12, 16, 32, 64, 128, 256, 512]\n"
     ]
    }
   ],
   "source": [
    "nums = [2, 4, 6, 8, 16, 32, 64, 128, 256]\n",
    "double = list(map(lambda x: x * 2, nums))\n",
    "print(double)"
   ]
  },
  {
   "cell_type": "code",
   "execution_count": 14,
   "id": "0ba8c4a8",
   "metadata": {},
   "outputs": [
    {
     "name": "stdout",
     "output_type": "stream",
     "text": [
      "[1, 8, 27, 64, 125]\n"
     ]
    }
   ],
   "source": [
    "nums = [1, 2, 3, 4, 5]\n",
    "cube = list(map(lambda x : pow(x, 3), nums))\n",
    "print(cube)"
   ]
  },
  {
   "cell_type": "code",
   "execution_count": 15,
   "id": "176b0b3c",
   "metadata": {},
   "outputs": [
    {
     "name": "stdout",
     "output_type": "stream",
     "text": [
      "0.16666666666666666\n"
     ]
    }
   ],
   "source": [
    "from functools import reduce\n",
    "nums = [1, 2, 3]\n",
    "summ = reduce((lambda x, y: x / y), nums)\n",
    "print(summ)"
   ]
  },
  {
   "cell_type": "code",
   "execution_count": 16,
   "id": "3f650404",
   "metadata": {},
   "outputs": [
    {
     "name": "stdout",
     "output_type": "stream",
     "text": [
      "10\n",
      "19\n",
      "32\n",
      "15\n",
      "29\n",
      "49\n"
     ]
    }
   ],
   "source": [
    "def quadratic(a, b, c):\n",
    "    return lambda x: a*x**2 + b*x + c\n",
    "    # lambda x: 2*x**2 + 3*x + 5\n",
    "f = quadratic(2, 3, 5) #lambda x: 2*x**2 + 3*x + 5\n",
    "print(f(1))\n",
    "print(f(2))\n",
    "print(f(3))\n",
    "f = quadratic(3, 5, 7) #lambda x: 2*x**2 + 3*x + 5\n",
    "print(f(1))\n",
    "print(f(2))\n",
    "print(f(3))"
   ]
  }
 ],
 "metadata": {
  "kernelspec": {
   "display_name": "Python 3",
   "language": "python",
   "name": "python3"
  },
  "language_info": {
   "codemirror_mode": {
    "name": "ipython",
    "version": 3
   },
   "file_extension": ".py",
   "mimetype": "text/x-python",
   "name": "python",
   "nbconvert_exporter": "python",
   "pygments_lexer": "ipython3",
   "version": "3.6.13"
  }
 },
 "nbformat": 4,
 "nbformat_minor": 5
}
