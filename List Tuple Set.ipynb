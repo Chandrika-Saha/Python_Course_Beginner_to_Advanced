{
 "cells": [
  {
   "cell_type": "markdown",
   "id": "1b7e9d9f",
   "metadata": {},
   "source": [
    "# Lists, Tuples and Sets"
   ]
  },
  {
   "cell_type": "code",
   "execution_count": 1,
   "id": "a1a83a8b",
   "metadata": {},
   "outputs": [
    {
     "name": "stdout",
     "output_type": "stream",
     "text": [
      "['History', 'Science', 'Math', 'Computer Science']\n",
      "<class 'list'>\n"
     ]
    }
   ],
   "source": [
    "# Python List-> 0,  1,  2,  3\n",
    " #           ->-4, -3, -2, -1\n",
    "courses = ['History', 'Science', 'Math', 'Computer Science']\n",
    "print(courses)\n",
    "print(type(courses))"
   ]
  },
  {
   "cell_type": "code",
   "execution_count": 2,
   "id": "54560ebb",
   "metadata": {},
   "outputs": [
    {
     "name": "stdout",
     "output_type": "stream",
     "text": [
      "History\n",
      "['Science', 'Math']\n",
      "['History', 'Science']\n",
      "['Math', 'Computer Science']\n",
      "['History', 'Science']\n"
     ]
    }
   ],
   "source": [
    "# Indexing in lists\n",
    "print(courses[0])\n",
    "# Slicing\n",
    "print(courses[1:3])\n",
    "print(courses[:2])\n",
    "print(courses[2:])\n",
    "print(courses[:-2])"
   ]
  },
  {
   "cell_type": "code",
   "execution_count": 3,
   "id": "8bca03fc",
   "metadata": {},
   "outputs": [
    {
     "name": "stdout",
     "output_type": "stream",
     "text": [
      "['History', 'Science', 'Math', 'Computer Science', 'Chemistry']\n"
     ]
    }
   ],
   "source": [
    "# Add a course at the end of the list\n",
    "courses.append(\"Chemistry\")\n",
    "print(courses)"
   ]
  },
  {
   "cell_type": "code",
   "execution_count": 4,
   "id": "c8f5e004",
   "metadata": {},
   "outputs": [
    {
     "name": "stdout",
     "output_type": "stream",
     "text": [
      "['Art', 'History', 'Science', 'Math', 'Computer Science', 'Chemistry']\n"
     ]
    }
   ],
   "source": [
    "# add course in a given index\n",
    "courses.insert(0, \"Art\")\n",
    "print(courses)"
   ]
  },
  {
   "cell_type": "code",
   "execution_count": 5,
   "id": "b704d258",
   "metadata": {},
   "outputs": [
    {
     "name": "stdout",
     "output_type": "stream",
     "text": [
      "['A', 'B', 'C', 122]\n"
     ]
    }
   ],
   "source": [
    "# List can have many types of data\n",
    "lst = [\"A\", \"B\", \"C\"]\n",
    "lst.append(122)\n",
    "print(lst)"
   ]
  },
  {
   "cell_type": "code",
   "execution_count": 6,
   "id": "33b13859",
   "metadata": {},
   "outputs": [
    {
     "name": "stdout",
     "output_type": "stream",
     "text": [
      "['A', 'B', 'C', 122, [1, 2, 4, 'hello']]\n",
      "[1, 2, 4, 'hello']\n"
     ]
    }
   ],
   "source": [
    "# List can even have list as an element\n",
    "lst2 = [1, 2, 4, \"hello\"]\n",
    "lst.append(lst2)\n",
    "print(lst)\n",
    "print(lst[-1])"
   ]
  },
  {
   "cell_type": "code",
   "execution_count": 7,
   "id": "d6e08718",
   "metadata": {},
   "outputs": [
    {
     "name": "stdout",
     "output_type": "stream",
     "text": [
      "['Art', 'History', 'Science', 'Math', 'Computer Science', 'Chemistry', 'Education', 'Management', 'Art']\n"
     ]
    }
   ],
   "source": [
    "# insert all values fron a list to another list\n",
    "courses_2 = [\"Education\", \"Management\", \"Art\"]\n",
    "courses.extend(courses_2)\n",
    "print(courses)"
   ]
  },
  {
   "cell_type": "code",
   "execution_count": 8,
   "id": "273556fd",
   "metadata": {},
   "outputs": [
    {
     "name": "stdout",
     "output_type": "stream",
     "text": [
      "['History', 'Science', 'Math', 'Computer Science', 'Chemistry', 'Education', 'Management', 'Art']\n"
     ]
    }
   ],
   "source": [
    "# Removing values from a list\n",
    "courses.remove('Art')\n",
    "print(courses)"
   ]
  },
  {
   "cell_type": "code",
   "execution_count": 9,
   "id": "a440e24d",
   "metadata": {},
   "outputs": [
    {
     "name": "stdout",
     "output_type": "stream",
     "text": [
      "['History', 'Math', 'Computer Science', 'Chemistry', 'Education', 'Management', 'Art']\n"
     ]
    }
   ],
   "source": [
    "courses.remove('Science')\n",
    "print(courses)"
   ]
  },
  {
   "cell_type": "code",
   "execution_count": 10,
   "id": "33b0cc7b",
   "metadata": {
    "scrolled": true
   },
   "outputs": [
    {
     "name": "stdout",
     "output_type": "stream",
     "text": [
      "Art\n",
      "['History', 'Math', 'Computer Science', 'Chemistry', 'Education', 'Management']\n"
     ]
    }
   ],
   "source": [
    "# pop to remove the last value\n",
    "popped = courses.pop()\n",
    "print(popped)\n",
    "print(courses)"
   ]
  },
  {
   "cell_type": "code",
   "execution_count": 11,
   "id": "8538a126",
   "metadata": {},
   "outputs": [
    {
     "name": "stdout",
     "output_type": "stream",
     "text": [
      "['Management', 'Education', 'Chemistry', 'Computer Science', 'Math', 'History']\n"
     ]
    }
   ],
   "source": [
    "# Reverse the list\n",
    "courses.reverse()\n",
    "print(courses)"
   ]
  },
  {
   "cell_type": "code",
   "execution_count": 12,
   "id": "735a3389",
   "metadata": {},
   "outputs": [
    {
     "name": "stdout",
     "output_type": "stream",
     "text": [
      "Original list ['History', 'Science', 'Math', 'Computer Science']\n",
      "Sorted list ['Science', 'Math', 'History', 'Computer Science']\n"
     ]
    }
   ],
   "source": [
    "# Sort the list\n",
    "courses = ['History', 'Science', 'Math', 'Computer Science']\n",
    "print(\"Original list\", courses)\n",
    "courses.sort(reverse = True)\n",
    "print(\"Sorted list\", courses)"
   ]
  },
  {
   "cell_type": "code",
   "execution_count": 13,
   "id": "86d27399",
   "metadata": {},
   "outputs": [
    {
     "name": "stdout",
     "output_type": "stream",
     "text": [
      "Original list ['History', 'Science', 'Math', 'Computer Science']\n",
      "Sorted list ['Computer Science', 'History', 'Math', 'Science']\n",
      "Original list remains the same ['History', 'Science', 'Math', 'Computer Science']\n"
     ]
    }
   ],
   "source": [
    "# Sort the list\n",
    "courses = ['History', 'Science', 'Math', 'Computer Science']\n",
    "print(\"Original list\", courses)\n",
    "sorted_courses = sorted(courses)\n",
    "print(\"Sorted list\", sorted_courses)\n",
    "print(\"Original list remains the same\", courses)"
   ]
  },
  {
   "cell_type": "code",
   "execution_count": 14,
   "id": "99a6bcf3",
   "metadata": {},
   "outputs": [
    {
     "name": "stdout",
     "output_type": "stream",
     "text": [
      "[9, 6, 5, 2, 1]\n"
     ]
    }
   ],
   "source": [
    "# Sorting with numbers\n",
    "nums = [2, 6, 9, 1, 5]\n",
    "nums.sort(reverse = True)\n",
    "print(nums)"
   ]
  },
  {
   "cell_type": "code",
   "execution_count": 15,
   "id": "49fce4ff",
   "metadata": {},
   "outputs": [
    {
     "name": "stdout",
     "output_type": "stream",
     "text": [
      "[1, 2, 3, 6, 9]\n",
      "[2, 3, 9, 1, 6]\n"
     ]
    }
   ],
   "source": [
    "# Keeping an original copy of the list\n",
    "nums = [2, 3, 9, 1, 6]\n",
    "sorted_nums = sorted(nums)\n",
    "print(sorted_nums)\n",
    "print(nums)"
   ]
  },
  {
   "cell_type": "code",
   "execution_count": 16,
   "id": "5341a749",
   "metadata": {},
   "outputs": [
    {
     "name": "stdout",
     "output_type": "stream",
     "text": [
      "1\n",
      "9\n",
      "21\n",
      "4.2\n"
     ]
    }
   ],
   "source": [
    "# Numerical operations on a list of numbers\n",
    "nums = [2, 3, 9, 1, 6]\n",
    "print(min(nums))\n",
    "print(max(nums))\n",
    "print(sum(nums))\n",
    "print(sum(nums) / len(nums))"
   ]
  },
  {
   "cell_type": "code",
   "execution_count": 17,
   "id": "c1a56d7d",
   "metadata": {},
   "outputs": [
    {
     "name": "stdout",
     "output_type": "stream",
     "text": [
      "4\n"
     ]
    }
   ],
   "source": [
    "# find the index of a value from a list\n",
    "print(nums.index(6))"
   ]
  },
  {
   "cell_type": "code",
   "execution_count": 18,
   "id": "9ffedefd",
   "metadata": {},
   "outputs": [
    {
     "name": "stdout",
     "output_type": "stream",
     "text": [
      "True\n",
      "False\n",
      "True\n"
     ]
    }
   ],
   "source": [
    "# check if a value is in a list\n",
    "print(\"Math\" in courses)\n",
    "print(4 in nums)\n",
    "print(6 in nums)"
   ]
  },
  {
   "cell_type": "code",
   "execution_count": 19,
   "id": "03ff7902",
   "metadata": {},
   "outputs": [
    {
     "name": "stdout",
     "output_type": "stream",
     "text": [
      "Var name is:    courses\n",
      "Var is:    ['History', 'Science', 'Math', 'Computer Science']\n",
      "List courses: ['History', 'Science', 'Math', 'Computer Science']\n",
      "Var name is:    courses_2\n",
      "Var is:    ['Education', 'Management', 'Art']\n",
      "List courses_2: ['Education', 'Management', 'Art']\n",
      "Var name is:    lst\n",
      "Var is:    ['A', 'B', 'C', 122, [1, 2, 4, 'hello']]\n",
      "List lst: ['A', 'B', 'C', 122, [1, 2, 4, 'hello']]\n",
      "Var name is:    lst2\n",
      "Var is:    [1, 2, 4, 'hello']\n",
      "List lst2: [1, 2, 4, 'hello']\n",
      "Var name is:    nums\n",
      "Var is:    [2, 3, 9, 1, 6]\n",
      "List nums: [2, 3, 9, 1, 6]\n",
      "Var name is:    popped\n",
      "Var is:    Art\n",
      "Var name is:    sorted_courses\n",
      "Var is:    ['Computer Science', 'History', 'Math', 'Science']\n",
      "List sorted_courses: ['Computer Science', 'History', 'Math', 'Science']\n",
      "Var name is:    sorted_nums\n",
      "Var is:    [1, 2, 3, 6, 9]\n",
      "List sorted_nums: [1, 2, 3, 6, 9]\n"
     ]
    }
   ],
   "source": [
    "# Get a list of all variables in the notebook\n",
    "all_variables = %who_ls\n",
    "\n",
    "# Iterate through each variable and print it if it's a list\n",
    "for var_name in all_variables:\n",
    "    print(\"Var name is:   \" ,var_name)\n",
    "    var = locals()[var_name]\n",
    "    print(\"Var is:   \", var)\n",
    "    if isinstance(var, list):\n",
    "        print(f\"List {var_name}: {var}\")"
   ]
  },
  {
   "cell_type": "code",
   "execution_count": 20,
   "id": "8c80d933",
   "metadata": {},
   "outputs": [
    {
     "name": "stdout",
     "output_type": "stream",
     "text": [
      "['History', 'Science', 'Math', 'Computer Science']\n",
      "History\n",
      "Science\n",
      "Math\n",
      "Computer Science\n"
     ]
    }
   ],
   "source": [
    "# printing all elements by accessing all values\n",
    "print(courses)  \n",
    "for item in courses:\n",
    "# iter: 1) item = \"History\"\n",
    "# iter: 2) item = \"Science\".... \n",
    "    print(item)"
   ]
  },
  {
   "cell_type": "code",
   "execution_count": 21,
   "id": "5bab5226",
   "metadata": {},
   "outputs": [
    {
     "name": "stdout",
     "output_type": "stream",
     "text": [
      "0 History\n",
      "1 Science\n",
      "2 Math\n",
      "3 Computer Science\n"
     ]
    }
   ],
   "source": [
    "# printing index and values\n",
    "for index, values in enumerate(courses): # (0, 'History'), (1, Science)\n",
    "    # index = 0, values = \"History\"\n",
    "    # index = 1, values = \"Math\"\n",
    "    print(index, values)"
   ]
  },
  {
   "cell_type": "code",
   "execution_count": 22,
   "id": "0bdb0f5c",
   "metadata": {},
   "outputs": [
    {
     "name": "stdout",
     "output_type": "stream",
     "text": [
      "1 History\n",
      "2 Science\n",
      "3 Math\n",
      "4 Computer Science\n"
     ]
    }
   ],
   "source": [
    "# printing index and values\n",
    "\n",
    "for index, values in enumerate(courses, start = 1):\n",
    "    print(index, values)"
   ]
  },
  {
   "cell_type": "code",
   "execution_count": 23,
   "id": "f951006a",
   "metadata": {},
   "outputs": [
    {
     "name": "stdout",
     "output_type": "stream",
     "text": [
      "Num1 is equal to Num2\n"
     ]
    }
   ],
   "source": [
    "# Finding the biggest number: num1, num2\n",
    "\n",
    "num1 = 3\n",
    "num2 = 3\n",
    "\n",
    "if num1 > num2:\n",
    "    print(\"Num1 is bigger\")\n",
    "elif num1 == num2:\n",
    "    print(\"Num1 is equal to Num2\")\n",
    "else:\n",
    "    print(\"Num2 is bigger\")\n"
   ]
  },
  {
   "cell_type": "code",
   "execution_count": 24,
   "id": "341a5ba0",
   "metadata": {},
   "outputs": [
    {
     "name": "stdout",
     "output_type": "stream",
     "text": [
      "Num2 is bigger\n"
     ]
    }
   ],
   "source": [
    "# Finding the biggest number: num1, num2, num3\n",
    "\n",
    "num1 = 99\n",
    "num2 = 999\n",
    "num3 = 8\n",
    "\n",
    "if num1 > num2 and num1 > num3:\n",
    "    print(\"Num1 is bigger\")\n",
    "elif num2 > num3 and num2 > num1:\n",
    "    print(\"Num2 is bigger\")\n",
    "else:\n",
    "    print(\"Num3 is bigger\")\n"
   ]
  },
  {
   "cell_type": "code",
   "execution_count": 25,
   "id": "0161bb94",
   "metadata": {},
   "outputs": [
    {
     "name": "stdout",
     "output_type": "stream",
     "text": [
      "True\n",
      "True\n",
      "140334973199816\n",
      "140334973199816\n"
     ]
    }
   ],
   "source": [
    "a = [1, 2, 3]\n",
    "b = [1, 2, 3]\n",
    "a = b\n",
    "\n",
    "print(a == b)\n",
    "print(a is b)\n",
    "print(id(a))\n",
    "print(id(b))"
   ]
  },
  {
   "cell_type": "code",
   "execution_count": 26,
   "id": "8921543f",
   "metadata": {},
   "outputs": [
    {
     "name": "stdout",
     "output_type": "stream",
     "text": [
      "History_Science_Math_Computer Science\n",
      "<class 'str'>\n",
      "['History', 'Science', 'Math', 'Computer Science']\n"
     ]
    }
   ],
   "source": [
    "# Making a string from a list\n",
    "courses = ['History', 'Science', 'Math', 'Computer Science']\n",
    "course_str = '_'.join(courses)\n",
    "course_list = course_str.split('_')\n",
    "print(course_str)\n",
    "print(type(course_str))\n",
    "print(course_list)"
   ]
  },
  {
   "cell_type": "markdown",
   "id": "9ee75cd1",
   "metadata": {},
   "source": [
    "# Tuples"
   ]
  },
  {
   "cell_type": "code",
   "execution_count": 27,
   "id": "f89986e7",
   "metadata": {},
   "outputs": [
    {
     "name": "stdout",
     "output_type": "stream",
     "text": [
      "('History', 'Math', 'Physics', 'CompSci')\n",
      "<class 'tuple'>\n"
     ]
    },
    {
     "ename": "TypeError",
     "evalue": "'tuple' object does not support item assignment",
     "output_type": "error",
     "traceback": [
      "\u001b[0;31m---------------------------------------------------------------------------\u001b[0m",
      "\u001b[0;31mTypeError\u001b[0m                                 Traceback (most recent call last)",
      "\u001b[0;32m<ipython-input-27-3a8f751e4f72>\u001b[0m in \u001b[0;36m<module>\u001b[0;34m\u001b[0m\n\u001b[1;32m      2\u001b[0m \u001b[0mprint\u001b[0m\u001b[0;34m(\u001b[0m\u001b[0mtuple_1\u001b[0m\u001b[0;34m)\u001b[0m\u001b[0;34m\u001b[0m\u001b[0;34m\u001b[0m\u001b[0m\n\u001b[1;32m      3\u001b[0m \u001b[0mprint\u001b[0m\u001b[0;34m(\u001b[0m\u001b[0mtype\u001b[0m\u001b[0;34m(\u001b[0m\u001b[0mtuple_1\u001b[0m\u001b[0;34m)\u001b[0m\u001b[0;34m)\u001b[0m\u001b[0;34m\u001b[0m\u001b[0;34m\u001b[0m\u001b[0m\n\u001b[0;32m----> 4\u001b[0;31m \u001b[0mtuple_1\u001b[0m\u001b[0;34m[\u001b[0m\u001b[0;36m0\u001b[0m\u001b[0;34m]\u001b[0m \u001b[0;34m=\u001b[0m \u001b[0;34m'Art'\u001b[0m\u001b[0;34m\u001b[0m\u001b[0;34m\u001b[0m\u001b[0m\n\u001b[0m",
      "\u001b[0;31mTypeError\u001b[0m: 'tuple' object does not support item assignment"
     ]
    }
   ],
   "source": [
    "tuple_1 = ('History', 'Math', 'Physics', 'CompSci')\n",
    "print(tuple_1)\n",
    "print(type(tuple_1))\n",
    "tuple_1[0] = 'Art'"
   ]
  },
  {
   "cell_type": "code",
   "execution_count": 28,
   "id": "6dc0d9d4",
   "metadata": {},
   "outputs": [
    {
     "name": "stdout",
     "output_type": "stream",
     "text": [
      "('History', 'Math', 'Physics', 'CompSci', 'Art')\n"
     ]
    }
   ],
   "source": [
    "tuple_2 = (\"Art\",)\n",
    "print(tuple_1 + tuple_2)"
   ]
  },
  {
   "cell_type": "markdown",
   "id": "bbb96a73",
   "metadata": {},
   "source": [
    "# Sets"
   ]
  },
  {
   "cell_type": "code",
   "execution_count": 29,
   "id": "98e7be6d",
   "metadata": {},
   "outputs": [
    {
     "name": "stdout",
     "output_type": "stream",
     "text": [
      "{'Math', 'History', 'Physics', 'CompSci'}\n",
      "{'History', 'Art', 'Design'}\n"
     ]
    }
   ],
   "source": [
    "sci_courses = {'History', 'Math', 'Physics', 'CompSci', 'Math'}\n",
    "art_courses = {'Art', 'History', 'Design'}\n",
    "print(sci_courses)\n",
    "print(art_courses)"
   ]
  },
  {
   "cell_type": "code",
   "execution_count": 30,
   "id": "927daef7",
   "metadata": {},
   "outputs": [
    {
     "name": "stdout",
     "output_type": "stream",
     "text": [
      "{'History'}\n"
     ]
    }
   ],
   "source": [
    "print(sci_courses.intersection(art_courses))"
   ]
  },
  {
   "cell_type": "code",
   "execution_count": 31,
   "id": "58a5d353",
   "metadata": {},
   "outputs": [
    {
     "name": "stdout",
     "output_type": "stream",
     "text": [
      "{'Math', 'Physics', 'CompSci'}\n",
      "{'Art', 'Design'}\n"
     ]
    }
   ],
   "source": [
    "print(sci_courses.difference(art_courses))\n",
    "print(art_courses.difference(sci_courses))"
   ]
  },
  {
   "cell_type": "code",
   "execution_count": 32,
   "id": "ae6090f6",
   "metadata": {},
   "outputs": [
    {
     "name": "stdout",
     "output_type": "stream",
     "text": [
      "{'Math', 'Physics', 'History', 'CompSci', 'Art', 'Design'}\n"
     ]
    }
   ],
   "source": [
    "print(sci_courses.union(art_courses))"
   ]
  },
  {
   "cell_type": "code",
   "execution_count": 33,
   "id": "4cb6ed71",
   "metadata": {},
   "outputs": [
    {
     "name": "stdout",
     "output_type": "stream",
     "text": [
      "['Math', 'History', 'Physics', 'CompSci']\n",
      "{'Math', 'History', 'Physics', 'CompSci'}\n"
     ]
    }
   ],
   "source": [
    "# Casting a set variable to a list variable\n",
    "list_course = list(sci_courses)\n",
    "# Casting the list back to set variable\n",
    "sci = set(list_course)\n",
    "print(list_course)\n",
    "print(sci)"
   ]
  },
  {
   "cell_type": "code",
   "execution_count": 34,
   "id": "7d75b0dd",
   "metadata": {},
   "outputs": [
    {
     "name": "stdout",
     "output_type": "stream",
     "text": [
      "[1, 2, 3]\n"
     ]
    },
    {
     "ename": "TypeError",
     "evalue": "'list' object is not callable",
     "output_type": "error",
     "traceback": [
      "\u001b[0;31m---------------------------------------------------------------------------\u001b[0m",
      "\u001b[0;31mTypeError\u001b[0m                                 Traceback (most recent call last)",
      "\u001b[0;32m<ipython-input-34-3479cde8c92e>\u001b[0m in \u001b[0;36m<module>\u001b[0;34m\u001b[0m\n\u001b[1;32m      1\u001b[0m \u001b[0mlist\u001b[0m \u001b[0;34m=\u001b[0m \u001b[0;34m[\u001b[0m\u001b[0;36m1\u001b[0m\u001b[0;34m,\u001b[0m \u001b[0;36m2\u001b[0m\u001b[0;34m,\u001b[0m \u001b[0;36m3\u001b[0m\u001b[0;34m]\u001b[0m\u001b[0;34m\u001b[0m\u001b[0;34m\u001b[0m\u001b[0m\n\u001b[1;32m      2\u001b[0m \u001b[0mprint\u001b[0m\u001b[0;34m(\u001b[0m\u001b[0mlist\u001b[0m\u001b[0;34m)\u001b[0m\u001b[0;34m\u001b[0m\u001b[0;34m\u001b[0m\u001b[0m\n\u001b[0;32m----> 3\u001b[0;31m \u001b[0mlist_course\u001b[0m \u001b[0;34m=\u001b[0m \u001b[0mlist\u001b[0m\u001b[0;34m(\u001b[0m\u001b[0msci_courses\u001b[0m\u001b[0;34m)\u001b[0m\u001b[0;34m\u001b[0m\u001b[0;34m\u001b[0m\u001b[0m\n\u001b[0m\u001b[1;32m      4\u001b[0m \u001b[0mprint\u001b[0m\u001b[0;34m(\u001b[0m\u001b[0mlist_course\u001b[0m\u001b[0;34m)\u001b[0m\u001b[0;34m\u001b[0m\u001b[0;34m\u001b[0m\u001b[0m\n",
      "\u001b[0;31mTypeError\u001b[0m: 'list' object is not callable"
     ]
    }
   ],
   "source": [
    "list = [1, 2, 3]\n",
    "print(list)\n",
    "list_course = list(sci_courses)\n",
    "print(list_course)"
   ]
  },
  {
   "cell_type": "code",
   "execution_count": null,
   "id": "16deed6a",
   "metadata": {},
   "outputs": [],
   "source": []
  }
 ],
 "metadata": {
  "kernelspec": {
   "display_name": "Python 3",
   "language": "python",
   "name": "python3"
  },
  "language_info": {
   "codemirror_mode": {
    "name": "ipython",
    "version": 3
   },
   "file_extension": ".py",
   "mimetype": "text/x-python",
   "name": "python",
   "nbconvert_exporter": "python",
   "pygments_lexer": "ipython3",
   "version": "3.6.13"
  }
 },
 "nbformat": 4,
 "nbformat_minor": 5
}
