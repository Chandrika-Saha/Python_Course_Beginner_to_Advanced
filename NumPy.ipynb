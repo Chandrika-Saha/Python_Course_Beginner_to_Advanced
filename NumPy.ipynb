{
 "cells": [
  {
   "cell_type": "markdown",
   "id": "007be2b3",
   "metadata": {},
   "source": [
    "# NumPy"
   ]
  },
  {
   "cell_type": "code",
   "execution_count": 2,
   "id": "e4ec825b",
   "metadata": {},
   "outputs": [],
   "source": [
    "# List -> slow, NumPy -> fast\n",
    "# List stores data with significant overhead, NumPy only stores the data\n",
    "# List does not use contiguous memory, list contains the pointers of all the data stored in\n",
    "# different memory locations\n",
    "# numPy uses contiguous memory- this can utilize SIMD vector processing units for faster processing, \n",
    "# effective cache utilization\n",
    "# Lists and NumPy: insertion, deletion, appending, concatenation, \n",
    "# Only NumPy: matrix multiplications, element wise multiplication\n",
    "# Applications of NumPy: mathematics, plotting, backend, Machine learning\n",
    "\n",
    "import numpy as np"
   ]
  },
  {
   "cell_type": "code",
   "execution_count": 3,
   "id": "8fed03fc",
   "metadata": {},
   "outputs": [
    {
     "name": "stdout",
     "output_type": "stream",
     "text": [
      "[    1 80000     3     0]\n"
     ]
    }
   ],
   "source": [
    "# 1D array\n",
    "# By default, it is int32\n",
    "# But we can specify the type if we want to\n",
    "# int8, int16, int32, int64\n",
    "# uint8, uint16, uint32, uint64\n",
    "# int, uint\n",
    "a = np.array([1, 80000, 3, 5/8], dtype = 'int32')# -> 0000...0000 -> 1111....1111: 2^16 -> \n",
    "print(a)"
   ]
  },
  {
   "cell_type": "code",
   "execution_count": 4,
   "id": "a7ded740",
   "metadata": {},
   "outputs": [
    {
     "name": "stdout",
     "output_type": "stream",
     "text": [
      "['aa' 'ab' 'c']\n"
     ]
    }
   ],
   "source": [
    "strings = np.array([\"aaa\", \"abc\", \"c\"], dtype='<U2')\n",
    "print(strings)"
   ]
  },
  {
   "cell_type": "code",
   "execution_count": 5,
   "id": "21e50d18",
   "metadata": {},
   "outputs": [
    {
     "name": "stdout",
     "output_type": "stream",
     "text": [
      "[[2.3        4.5        5.        ]\n",
      " [9.2        3.         1.33333333]]\n"
     ]
    }
   ],
   "source": [
    "# 2D array\n",
    "b = np.array([[2.3, 4.5, 5], [9.2, 3.0, 4/3]], dtype = 'float64')\n",
    "print(b)"
   ]
  },
  {
   "cell_type": "code",
   "execution_count": 6,
   "id": "68362b12",
   "metadata": {},
   "outputs": [
    {
     "name": "stdout",
     "output_type": "stream",
     "text": [
      "1\n",
      "(4,)\n",
      "2\n",
      "(2, 3)\n"
     ]
    }
   ],
   "source": [
    "# Get dimension and shape\n",
    "print(a.ndim)\n",
    "print(a.shape)\n",
    "\n",
    "print(b.ndim)\n",
    "print(b.shape)"
   ]
  },
  {
   "cell_type": "code",
   "execution_count": 7,
   "id": "0f9439b3",
   "metadata": {},
   "outputs": [
    {
     "name": "stdout",
     "output_type": "stream",
     "text": [
      "int32\n",
      "float64\n",
      "<U2\n"
     ]
    }
   ],
   "source": [
    "# Get the type of the array\n",
    "print(a.dtype)\n",
    "print(b.dtype)\n",
    "print(strings.dtype)"
   ]
  },
  {
   "cell_type": "code",
   "execution_count": 8,
   "id": "bda71a69",
   "metadata": {},
   "outputs": [
    {
     "name": "stdout",
     "output_type": "stream",
     "text": [
      "4\n",
      "8\n"
     ]
    }
   ],
   "source": [
    "# Size of items in bytes\n",
    "print(a.itemsize)\n",
    "print(b.itemsize)"
   ]
  },
  {
   "cell_type": "code",
   "execution_count": 9,
   "id": "aed6acde",
   "metadata": {},
   "outputs": [
    {
     "name": "stdout",
     "output_type": "stream",
     "text": [
      "16\n",
      "16\n"
     ]
    }
   ],
   "source": [
    "# Find the total size: how many items in the array * itemsize\n",
    "total_size = a.size * a.itemsize\n",
    "print(total_size)\n",
    "\n",
    "# Or\n",
    "print(a.nbytes)"
   ]
  },
  {
   "cell_type": "markdown",
   "id": "5e8aa2dc",
   "metadata": {},
   "source": [
    "# Accessing/changing specific elements, rows, columns etc"
   ]
  },
  {
   "cell_type": "code",
   "execution_count": 10,
   "id": "eee58158",
   "metadata": {},
   "outputs": [
    {
     "name": "stdout",
     "output_type": "stream",
     "text": [
      "[[ 1  2  3  4  5  6  7]\n",
      " [ 8  9 10 11 12 13 14]\n",
      " [15 16 17 18 19 20 21]]\n"
     ]
    }
   ],
   "source": [
    "a = np.array([[1, 2, 3, 4, 5, 6, 7], [8, 9, 10, 11, 12, 13, 14], [15, 16, 17, 18, 19, 20, 21]])\n",
    "print(a)"
   ]
  },
  {
   "cell_type": "code",
   "execution_count": 11,
   "id": "33cf0fab",
   "metadata": {},
   "outputs": [
    {
     "name": "stdout",
     "output_type": "stream",
     "text": [
      "[ 8  9 10 11 12 13 14]\n"
     ]
    }
   ],
   "source": [
    "# Access a row\n",
    "print(a[1, :])"
   ]
  },
  {
   "cell_type": "code",
   "execution_count": 12,
   "id": "0412b471",
   "metadata": {},
   "outputs": [
    {
     "name": "stdout",
     "output_type": "stream",
     "text": [
      "[ 3 10 17]\n"
     ]
    }
   ],
   "source": [
    "# Access a column\n",
    "print(a[:, 2])"
   ]
  },
  {
   "cell_type": "code",
   "execution_count": 13,
   "id": "b4dab285",
   "metadata": {},
   "outputs": [
    {
     "name": "stdout",
     "output_type": "stream",
     "text": [
      "10\n"
     ]
    }
   ],
   "source": [
    "# Access a particular value [row, column]\n",
    "print(a[1, 2])"
   ]
  },
  {
   "cell_type": "code",
   "execution_count": 14,
   "id": "6508e791",
   "metadata": {},
   "outputs": [
    {
     "name": "stdout",
     "output_type": "stream",
     "text": [
      "[10 11 12]\n",
      "[[ 4  5  6  7]\n",
      " [11 12 13 14]]\n"
     ]
    }
   ],
   "source": [
    "# Slicing: [startindex:endindex:stepsize]\n",
    "print(a[1, 2:5])\n",
    "print(a[0:2, 3:7])"
   ]
  },
  {
   "cell_type": "code",
   "execution_count": 15,
   "id": "dfff3b4b",
   "metadata": {},
   "outputs": [
    {
     "name": "stdout",
     "output_type": "stream",
     "text": [
      "[[ 1  2  3  4  5  6  7]\n",
      " [ 8  9 10 11 12 20 14]\n",
      " [15 16 17 18 19 20 21]]\n",
      "[[ 1  2  3  4  5  6  7]\n",
      " [ 3  3  3  3  3  3  3]\n",
      " [15 16 17 18 19 20 21]]\n",
      "[[ 1  2  3  4  5  6  7]\n",
      " [ 3  4  5  6  8  9 40]\n",
      " [15 16 17 18 19 20 21]]\n",
      "[[ 1  2  3  4  5  6  7]\n",
      " [ 3  1 99 34 45 66 88]\n",
      " [15 16 17 18 19 20 21]]\n"
     ]
    }
   ],
   "source": [
    "a[1, 5] = 20\n",
    "print(a)\n",
    "\n",
    "a[1, :] = 3\n",
    "print(a)\n",
    "\n",
    "a[1, :] = [3, 4, 5, 6, 8, 9, 40]\n",
    "print(a)\n",
    "\n",
    "b = np.array([3, 1, 99, 34, 45, 66, 88])\n",
    "a[1, :] = b\n",
    "print(a)"
   ]
  },
  {
   "cell_type": "code",
   "execution_count": 17,
   "id": "9754d0d8",
   "metadata": {},
   "outputs": [
    {
     "name": "stdout",
     "output_type": "stream",
     "text": [
      "[[[1 2]\n",
      "  [3 4]]\n",
      "\n",
      " [[5 6]\n",
      "  [7 8]]]\n"
     ]
    }
   ],
   "source": [
    "# 3D array\n",
    "b = np.array([[[1, 2], [3, 4]], [[5, 6], [7, 8]]])\n",
    "print(b)"
   ]
  },
  {
   "cell_type": "code",
   "execution_count": 27,
   "id": "b5b760f9",
   "metadata": {},
   "outputs": [
    {
     "name": "stdout",
     "output_type": "stream",
     "text": [
      "[[3 4]\n",
      " [7 8]]\n"
     ]
    }
   ],
   "source": [
    "# All slicing configuration works\n",
    "print(b[:, 1, :])"
   ]
  },
  {
   "cell_type": "code",
   "execution_count": 28,
   "id": "ba5eb40d",
   "metadata": {},
   "outputs": [
    {
     "name": "stdout",
     "output_type": "stream",
     "text": [
      "[[[ 1  2]\n",
      "  [30 30]]\n",
      "\n",
      " [[ 5  6]\n",
      "  [30 30]]]\n",
      "[[[ 1  2]\n",
      "  [40 50]]\n",
      "\n",
      " [[ 5  6]\n",
      "  [60 70]]]\n"
     ]
    }
   ],
   "source": [
    "b[:, 1, :] = 30\n",
    "print(b)\n",
    "\n",
    "b[:, 1, :] = [[40, 50], [60, 70]]\n",
    "print(b)"
   ]
  },
  {
   "cell_type": "code",
   "execution_count": 29,
   "id": "b82aeeca",
   "metadata": {},
   "outputs": [
    {
     "name": "stdout",
     "output_type": "stream",
     "text": [
      "[1 2 3 4 5 6 7]\n",
      "[1 4 7]\n"
     ]
    }
   ],
   "source": [
    "a = np.array([1, 2, 3, 4, 5, 6, 7])\n",
    "print(a)\n",
    "print(a[[0, 3, 6]])"
   ]
  },
  {
   "cell_type": "markdown",
   "id": "5f9968d0",
   "metadata": {},
   "source": [
    "# Initializing different kinds of arrays"
   ]
  },
  {
   "cell_type": "code",
   "execution_count": 18,
   "id": "736a147c",
   "metadata": {},
   "outputs": [
    {
     "name": "stdout",
     "output_type": "stream",
     "text": [
      "[[0. 0. 0. 0.]\n",
      " [0. 0. 0. 0.]\n",
      " [0. 0. 0. 0.]]\n"
     ]
    }
   ],
   "source": [
    "# All zero matrix\n",
    "import numpy as np\n",
    "a = np.zeros((3, 4))\n",
    "print(a)"
   ]
  },
  {
   "cell_type": "code",
   "execution_count": 19,
   "id": "49cb480d",
   "metadata": {},
   "outputs": [
    {
     "name": "stdout",
     "output_type": "stream",
     "text": [
      "[[1. 1. 1.]\n",
      " [1. 1. 1.]]\n",
      "[[1 1 1]\n",
      " [1 1 1]]\n"
     ]
    }
   ],
   "source": [
    "# All 1 matrix\n",
    "a = np.ones((2, 3))\n",
    "print(a)\n",
    "\n",
    "b = np.ones((2, 3), dtype='int32')\n",
    "print(b)"
   ]
  },
  {
   "cell_type": "code",
   "execution_count": 18,
   "id": "92b29ffb",
   "metadata": {},
   "outputs": [
    {
     "name": "stdout",
     "output_type": "stream",
     "text": [
      "[[99 99]\n",
      " [99 99]]\n",
      "[[99. 99.]\n",
      " [99. 99.]]\n"
     ]
    }
   ],
   "source": [
    "# Any other number - full\n",
    "a = np.full((2, 2), 99)\n",
    "print(a)\n",
    "\n",
    "b = np.full((2, 2), 99, dtype='float32')\n",
    "print(b)"
   ]
  },
  {
   "cell_type": "code",
   "execution_count": 21,
   "id": "113ad020",
   "metadata": {},
   "outputs": [
    {
     "name": "stdout",
     "output_type": "stream",
     "text": [
      "[[ 1  2  3  4  5  6  7]\n",
      " [ 8  9 10 11 12 13 14]\n",
      " [15 16 17 18 19 20 21]]\n",
      "[[5 5 5 5 5 5 5]\n",
      " [5 5 5 5 5 5 5]\n",
      " [5 5 5 5 5 5 5]]\n",
      "[[5 5 5 5 5 5 5]\n",
      " [5 5 5 5 5 5 5]\n",
      " [5 5 5 5 5 5 5]]\n"
     ]
    }
   ],
   "source": [
    "# Any other number - full_like\n",
    "a = np.array([[1, 2, 3, 4, 5, 6, 7], [8, 9, 10, 11, 12, 13, 14], [15, 16, 17, 18, 19, 20, 21]])\n",
    "print(a)\n",
    "\n",
    "a = np.full_like(a, 5)\n",
    "print(a)\n",
    "\n",
    "b = np.full(a.shape, 5)\n",
    "print(b)"
   ]
  },
  {
   "cell_type": "code",
   "execution_count": 31,
   "id": "42d1ed5e",
   "metadata": {
    "scrolled": true
   },
   "outputs": [
    {
     "name": "stdout",
     "output_type": "stream",
     "text": [
      "0.5891107162253139\n",
      "[[[0.66187361 0.19088118]\n",
      "  [0.80305215 0.60199349]]\n",
      "\n",
      " [[0.72938137 0.01506943]\n",
      "  [0.1365603  0.32161367]]]\n"
     ]
    }
   ],
   "source": [
    "# Random decimal numbers\n",
    "import random\n",
    "print(random.random())\n",
    "a = np.random.rand(2, 2, 2)\n",
    "print(a)"
   ]
  },
  {
   "cell_type": "code",
   "execution_count": 32,
   "id": "d8c92408",
   "metadata": {},
   "outputs": [
    {
     "name": "stdout",
     "output_type": "stream",
     "text": [
      "[[[0.82816444 0.40470616]\n",
      "  [0.02011316 0.2757555 ]]\n",
      "\n",
      " [[0.13149092 0.10792597]\n",
      "  [0.28483942 0.24460795]]]\n"
     ]
    }
   ],
   "source": [
    "a = np.random.random_sample(a.shape)\n",
    "print(a)"
   ]
  },
  {
   "cell_type": "code",
   "execution_count": 36,
   "id": "8ef2592b",
   "metadata": {},
   "outputs": [
    {
     "name": "stdout",
     "output_type": "stream",
     "text": [
      "2\n",
      "[[1 1 0 1 1]\n",
      " [2 0 2 0 1]\n",
      " [0 0 2 0 2]]\n",
      "[[ 3  2 -2  4  2]\n",
      " [-3  1  1  3 -4]\n",
      " [ 2  2 -1  4 -3]]\n"
     ]
    }
   ],
   "source": [
    "# Random integers\n",
    "a = np.random.randint(3) # Starts at 0, goes until 3, excluding 3\n",
    "print(a)\n",
    "\n",
    "a = np.random.randint(3, size = (3, 5))\n",
    "print(a)\n",
    "\n",
    "a = np.random.randint(-4, 5, size = (3, 5))\n",
    "print(a)"
   ]
  },
  {
   "cell_type": "code",
   "execution_count": 28,
   "id": "089c3aa5",
   "metadata": {},
   "outputs": [
    {
     "name": "stdout",
     "output_type": "stream",
     "text": [
      "[[1 0 0 0]\n",
      " [0 1 0 0]\n",
      " [0 0 1 0]\n",
      " [0 0 0 1]]\n"
     ]
    }
   ],
   "source": [
    "# The identity matrix\n",
    "a = np.identity(4, dtype='int32')\n",
    "print(a)"
   ]
  },
  {
   "cell_type": "code",
   "execution_count": 3,
   "id": "6d16a95e",
   "metadata": {},
   "outputs": [
    {
     "name": "stdout",
     "output_type": "stream",
     "text": [
      "This is the original array:\n",
      " [[1 2 3]\n",
      " [4 5 6]]\n",
      "[1 1 1 2 2 2 3 3 3 4 4 4 5 5 5 6 6 6]\n",
      "[[1 1 1 2 2 2 3 3 3]\n",
      " [4 4 4 5 5 5 6 6 6]]\n",
      "[[1 2 3]\n",
      " [1 2 3]\n",
      " [1 2 3]\n",
      " [4 5 6]\n",
      " [4 5 6]\n",
      " [4 5 6]]\n"
     ]
    }
   ],
   "source": [
    "# repeat array\n",
    "import numpy as np\n",
    "arr = np.array([[1, 2, 3], [4, 5, 6]])\n",
    "print(\"This is the original array:\\n\", arr)\n",
    "\n",
    "a = np.repeat(arr, 3)\n",
    "print(a)\n",
    "\n",
    "a = np.repeat(arr, 3, axis = 1) # axis 1 is column\n",
    "print(a)\n",
    "\n",
    "a = np.repeat(arr, 3, axis = 0) # axis 0 is row\n",
    "print(a)"
   ]
  },
  {
   "cell_type": "code",
   "execution_count": 30,
   "id": "c08e949a",
   "metadata": {},
   "outputs": [
    {
     "name": "stdout",
     "output_type": "stream",
     "text": [
      "[[1 1 1 1 1]\n",
      " [1 0 0 0 1]\n",
      " [1 0 9 0 1]\n",
      " [1 0 0 0 1]\n",
      " [1 1 1 1 1]]\n"
     ]
    }
   ],
   "source": [
    "# Recreate the matrix\n",
    "a = np.ones((5, 5), dtype='int32')\n",
    "a[1:4, 1:4] = 0\n",
    "a[2, 2] = 9\n",
    "print(a)"
   ]
  },
  {
   "cell_type": "code",
   "execution_count": 31,
   "id": "66bbc7ef",
   "metadata": {},
   "outputs": [
    {
     "name": "stdout",
     "output_type": "stream",
     "text": [
      "This is a: [1 2 3]\n",
      "This is b: [1 2 3]\n"
     ]
    }
   ],
   "source": [
    "# Careful when copying arrays\n",
    "a = np.array([1, 2, 3])\n",
    "b = a\n",
    "print(\"This is a:\", a)\n",
    "print(\"This is b:\", b)"
   ]
  },
  {
   "cell_type": "code",
   "execution_count": 32,
   "id": "3eb0afc7",
   "metadata": {},
   "outputs": [
    {
     "name": "stdout",
     "output_type": "stream",
     "text": [
      "This is a: [48  2  3]\n",
      "This is b: [48  2  3]\n"
     ]
    }
   ],
   "source": [
    "b[0] = 48\n",
    "print(\"This is a:\", a)\n",
    "print(\"This is b:\", b)"
   ]
  },
  {
   "cell_type": "code",
   "execution_count": 33,
   "id": "5c1afe6f",
   "metadata": {},
   "outputs": [
    {
     "name": "stdout",
     "output_type": "stream",
     "text": [
      "This is a: [1 2 3]\n",
      "This is b: [1 2 3]\n"
     ]
    }
   ],
   "source": [
    "# To properly copy, use the copy method\n",
    "a = np.array([1, 2, 3])\n",
    "b = a.copy()\n",
    "print(\"This is a:\", a)\n",
    "print(\"This is b:\", b)"
   ]
  },
  {
   "cell_type": "code",
   "execution_count": 34,
   "id": "0cb0abfe",
   "metadata": {},
   "outputs": [
    {
     "name": "stdout",
     "output_type": "stream",
     "text": [
      "This is a: [1 2 3]\n",
      "This is b: [33  2  3]\n"
     ]
    }
   ],
   "source": [
    "b[0] = 33\n",
    "print(\"This is a:\", a)\n",
    "print(\"This is b:\", b)"
   ]
  },
  {
   "cell_type": "markdown",
   "id": "f41b9e56",
   "metadata": {},
   "source": [
    "# Maths"
   ]
  },
  {
   "cell_type": "code",
   "execution_count": 4,
   "id": "a052b7df",
   "metadata": {},
   "outputs": [
    {
     "name": "stdout",
     "output_type": "stream",
     "text": [
      "[1 2 3 4]\n"
     ]
    }
   ],
   "source": [
    "a = np.array([1, 2, 3, 4])\n",
    "print(a)"
   ]
  },
  {
   "cell_type": "code",
   "execution_count": 9,
   "id": "c77dc684",
   "metadata": {},
   "outputs": [
    {
     "name": "stdout",
     "output_type": "stream",
     "text": [
      "[3 4 5 6]\n"
     ]
    }
   ],
   "source": [
    "print(a + 2)"
   ]
  },
  {
   "cell_type": "code",
   "execution_count": 6,
   "id": "5ca8edba",
   "metadata": {},
   "outputs": [
    {
     "data": {
      "text/plain": [
       "array([-1,  0,  1,  2])"
      ]
     },
     "execution_count": 6,
     "metadata": {},
     "output_type": "execute_result"
    }
   ],
   "source": [
    "a - 2"
   ]
  },
  {
   "cell_type": "code",
   "execution_count": 7,
   "id": "3ef8a859",
   "metadata": {},
   "outputs": [
    {
     "name": "stdout",
     "output_type": "stream",
     "text": [
      "[3 4 5 6]\n"
     ]
    }
   ],
   "source": [
    "a += 2\n",
    "print(a)"
   ]
  },
  {
   "cell_type": "code",
   "execution_count": 8,
   "id": "55541ae2",
   "metadata": {},
   "outputs": [
    {
     "name": "stdout",
     "output_type": "stream",
     "text": [
      "[1 2 3 4]\n"
     ]
    }
   ],
   "source": [
    "a -= 2\n",
    "print(a)"
   ]
  },
  {
   "cell_type": "code",
   "execution_count": 12,
   "id": "feaa36ec",
   "metadata": {},
   "outputs": [
    {
     "data": {
      "text/plain": [
       "array([0.5, 1. , 1.5, 2. ])"
      ]
     },
     "execution_count": 12,
     "metadata": {},
     "output_type": "execute_result"
    }
   ],
   "source": [
    "a / 2"
   ]
  },
  {
   "cell_type": "code",
   "execution_count": 13,
   "id": "6e72195b",
   "metadata": {},
   "outputs": [
    {
     "data": {
      "text/plain": [
       "array([2, 4, 6, 8])"
      ]
     },
     "execution_count": 13,
     "metadata": {},
     "output_type": "execute_result"
    }
   ],
   "source": [
    "a * 2"
   ]
  },
  {
   "cell_type": "code",
   "execution_count": 10,
   "id": "118506f6",
   "metadata": {},
   "outputs": [
    {
     "data": {
      "text/plain": [
       "array([1, 0, 3, 0])"
      ]
     },
     "execution_count": 10,
     "metadata": {},
     "output_type": "execute_result"
    }
   ],
   "source": [
    "b = np.array([1, 0, 1, 0])\n",
    "a * b"
   ]
  },
  {
   "cell_type": "code",
   "execution_count": 20,
   "id": "0d245cf2",
   "metadata": {},
   "outputs": [
    {
     "data": {
      "text/plain": [
       "array([ 1,  4,  9, 16])"
      ]
     },
     "execution_count": 20,
     "metadata": {},
     "output_type": "execute_result"
    }
   ],
   "source": [
    "a ** 2"
   ]
  },
  {
   "cell_type": "code",
   "execution_count": 21,
   "id": "1a5c8b21",
   "metadata": {},
   "outputs": [
    {
     "data": {
      "text/plain": [
       "array([ 0.84147098,  0.90929743,  0.14112001, -0.7568025 ])"
      ]
     },
     "execution_count": 21,
     "metadata": {},
     "output_type": "execute_result"
    }
   ],
   "source": [
    "np.sin(a)"
   ]
  },
  {
   "cell_type": "code",
   "execution_count": 22,
   "id": "3bfef272",
   "metadata": {},
   "outputs": [
    {
     "data": {
      "text/plain": [
       "array([ 0.54030231, -0.41614684, -0.9899925 , -0.65364362])"
      ]
     },
     "execution_count": 22,
     "metadata": {},
     "output_type": "execute_result"
    }
   ],
   "source": [
    "np.cos(a)"
   ]
  },
  {
   "cell_type": "markdown",
   "id": "0208d4d6",
   "metadata": {},
   "source": [
    "# Linear algebra"
   ]
  },
  {
   "cell_type": "code",
   "execution_count": 11,
   "id": "256d66ad",
   "metadata": {},
   "outputs": [
    {
     "name": "stdout",
     "output_type": "stream",
     "text": [
      "[[1. 1. 1.]\n",
      " [1. 1. 1.]]\n",
      "[[2 2]\n",
      " [2 2]\n",
      " [2 2]]\n"
     ]
    },
    {
     "ename": "ValueError",
     "evalue": "operands could not be broadcast together with shapes (2,3) (3,2) ",
     "output_type": "error",
     "traceback": [
      "\u001b[0;31m---------------------------------------------------------------------------\u001b[0m",
      "\u001b[0;31mValueError\u001b[0m                                Traceback (most recent call last)",
      "\u001b[0;32m<ipython-input-11-ea29f7a5bd05>\u001b[0m in \u001b[0;36m<module>\u001b[0;34m\u001b[0m\n\u001b[1;32m      5\u001b[0m \u001b[0mprint\u001b[0m\u001b[0;34m(\u001b[0m\u001b[0mb\u001b[0m\u001b[0;34m)\u001b[0m\u001b[0;34m\u001b[0m\u001b[0;34m\u001b[0m\u001b[0m\n\u001b[1;32m      6\u001b[0m \u001b[0;34m\u001b[0m\u001b[0m\n\u001b[0;32m----> 7\u001b[0;31m \u001b[0ma\u001b[0m \u001b[0;34m*\u001b[0m \u001b[0mb\u001b[0m\u001b[0;34m\u001b[0m\u001b[0;34m\u001b[0m\u001b[0m\n\u001b[0m",
      "\u001b[0;31mValueError\u001b[0m: operands could not be broadcast together with shapes (2,3) (3,2) "
     ]
    }
   ],
   "source": [
    "a = np.ones((2, 3))\n",
    "print(a)\n",
    "\n",
    "b = np.full((3, 2), 2)\n",
    "print(b)\n",
    "\n",
    "a * b"
   ]
  },
  {
   "cell_type": "code",
   "execution_count": 12,
   "id": "dbd43d18",
   "metadata": {},
   "outputs": [
    {
     "data": {
      "text/plain": [
       "array([[6., 6.],\n",
       "       [6., 6.]])"
      ]
     },
     "execution_count": 12,
     "metadata": {},
     "output_type": "execute_result"
    }
   ],
   "source": [
    "np.matmul(a, b)"
   ]
  },
  {
   "cell_type": "code",
   "execution_count": 29,
   "id": "a66cb481",
   "metadata": {},
   "outputs": [
    {
     "data": {
      "text/plain": [
       "1.0"
      ]
     },
     "execution_count": 29,
     "metadata": {},
     "output_type": "execute_result"
    }
   ],
   "source": [
    "# Identity matrices have a determinant of 1\n",
    "c = np.identity(3)\n",
    "np.linalg.det(c)"
   ]
  },
  {
   "cell_type": "code",
   "execution_count": 30,
   "id": "f4477965",
   "metadata": {},
   "outputs": [
    {
     "name": "stdout",
     "output_type": "stream",
     "text": [
      "This is a:\n",
      " [[1 2 3]\n",
      " [4 5 6]\n",
      " [7 8 9]]\n",
      "\n",
      "\n",
      "Trace of the matrix is: 15\n",
      "\n",
      "\n",
      "U, S and Vt:\n",
      "\n",
      "[[-0.21483724  0.88723069  0.40824829]\n",
      " [-0.52058739  0.24964395 -0.81649658]\n",
      " [-0.82633754 -0.38794278  0.40824829]]\n",
      "\n",
      "[1.68481034e+01 1.06836951e+00 1.47280825e-16]\n",
      "\n",
      "[[-0.47967118 -0.57236779 -0.66506441]\n",
      " [-0.77669099 -0.07568647  0.62531805]\n",
      " [ 0.40824829 -0.81649658  0.40824829]]\n",
      "\n",
      "\n",
      "The eigenvalues, eigenvectores are:\n",
      "\n",
      "[ 1.61168440e+01 -1.11684397e+00 -1.30367773e-15]\n",
      "\n",
      "[[-0.23197069 -0.78583024  0.40824829]\n",
      " [-0.52532209 -0.08675134 -0.81649658]\n",
      " [-0.8186735   0.61232756  0.40824829]]\n",
      "\n",
      "\n",
      "Frobenius norm is:\n",
      "16.881943016134134\n",
      "\n",
      "\n",
      "Inverse:\n",
      "[[-4.50359963e+15  9.00719925e+15 -4.50359963e+15]\n",
      " [ 9.00719925e+15 -1.80143985e+16  9.00719925e+15]\n",
      " [-4.50359963e+15  9.00719925e+15 -4.50359963e+15]]\n"
     ]
    }
   ],
   "source": [
    "# Some other things that can be done:\n",
    "\n",
    "# Trace: Sum of the matrix in its main diagonal\n",
    "a = np.array([[1, 2, 3],\n",
    "             [4, 5, 6],\n",
    "            [7, 8, 9]])\n",
    "print(\"This is a:\\n\", a)\n",
    "trace = np.trace(a)\n",
    "print(\"\\n\\nTrace of the matrix is:\", trace)\n",
    "\n",
    "# Singular Value Decomposition: factorization of a matrix into 3 matrices\n",
    "U, S, Vt = np.linalg.svd(a)\n",
    "print(f\"\\n\\nU, S and Vt:\\n\\n{U}\\n\\n{S}\\n\\n{Vt}\")\n",
    "\n",
    "# Eigenvalues: scales associated with a liner system that provide insights into a systems properties\n",
    "values, vectors = np.linalg.eig(a)\n",
    "print(f\"\\n\\nThe eigenvalues, eigenvectores are:\\n\\n{values}\\n\\n{vectors}\")\n",
    "\n",
    "\n",
    "# Matrix Norm: measure of its size or length\n",
    "norm = np.linalg.norm(a, \"fro\") # calculate the frobenius norm\n",
    "print(f\"\\n\\nFrobenius norm is:\\n{norm}\")\n",
    "\n",
    "\n",
    "# Inverse: when multiplied with the original matrix, yeild identity matrix\n",
    "inverse = np.linalg.inv(a)\n",
    "print(f\"\\n\\nInverse:\\n{inverse}\")"
   ]
  },
  {
   "cell_type": "markdown",
   "id": "977beb5c",
   "metadata": {},
   "source": [
    "# Statistics"
   ]
  },
  {
   "cell_type": "code",
   "execution_count": 1,
   "id": "a9d11281",
   "metadata": {},
   "outputs": [
    {
     "data": {
      "text/plain": [
       "array([[1, 2, 3],\n",
       "       [4, 5, 6]])"
      ]
     },
     "execution_count": 1,
     "metadata": {},
     "output_type": "execute_result"
    }
   ],
   "source": [
    "import numpy as np\n",
    "stats = np.array([[1, 2, 3], [4, 5, 6]])\n",
    "stats"
   ]
  },
  {
   "cell_type": "code",
   "execution_count": 2,
   "id": "3f540f64",
   "metadata": {},
   "outputs": [
    {
     "data": {
      "text/plain": [
       "1"
      ]
     },
     "execution_count": 2,
     "metadata": {},
     "output_type": "execute_result"
    }
   ],
   "source": [
    "np.min(stats)"
   ]
  },
  {
   "cell_type": "code",
   "execution_count": 3,
   "id": "91a2f038",
   "metadata": {},
   "outputs": [
    {
     "data": {
      "text/plain": [
       "6"
      ]
     },
     "execution_count": 3,
     "metadata": {},
     "output_type": "execute_result"
    }
   ],
   "source": [
    "np.max(stats)"
   ]
  },
  {
   "cell_type": "code",
   "execution_count": 33,
   "id": "9095bdab",
   "metadata": {},
   "outputs": [
    {
     "data": {
      "text/plain": [
       "array([3, 6])"
      ]
     },
     "execution_count": 33,
     "metadata": {},
     "output_type": "execute_result"
    }
   ],
   "source": [
    "np.max(stats, axis=1) # Axis = 1, for rows"
   ]
  },
  {
   "cell_type": "code",
   "execution_count": 34,
   "id": "0ab631d1",
   "metadata": {},
   "outputs": [
    {
     "data": {
      "text/plain": [
       "array([4, 5, 6])"
      ]
     },
     "execution_count": 34,
     "metadata": {},
     "output_type": "execute_result"
    }
   ],
   "source": [
    "np.max(stats, axis=0) # Axis = 0, for columns"
   ]
  },
  {
   "cell_type": "code",
   "execution_count": 35,
   "id": "ad69f690",
   "metadata": {},
   "outputs": [
    {
     "data": {
      "text/plain": [
       "array([ 6, 15])"
      ]
     },
     "execution_count": 35,
     "metadata": {},
     "output_type": "execute_result"
    }
   ],
   "source": [
    "np.sum(stats, axis=1)"
   ]
  },
  {
   "cell_type": "code",
   "execution_count": 36,
   "id": "56ac03fc",
   "metadata": {},
   "outputs": [
    {
     "data": {
      "text/plain": [
       "array([5, 7, 9])"
      ]
     },
     "execution_count": 36,
     "metadata": {},
     "output_type": "execute_result"
    }
   ],
   "source": [
    "np.sum(stats, axis=0)"
   ]
  },
  {
   "cell_type": "markdown",
   "id": "6c248309",
   "metadata": {},
   "source": [
    "# Reorganizing array"
   ]
  },
  {
   "cell_type": "code",
   "execution_count": 11,
   "id": "8bf9ef76",
   "metadata": {},
   "outputs": [
    {
     "name": "stdout",
     "output_type": "stream",
     "text": [
      "[[1 2 3 4]\n",
      " [5 6 7 8]]\n",
      "[[1]\n",
      " [2]\n",
      " [3]\n",
      " [4]\n",
      " [5]\n",
      " [6]\n",
      " [7]\n",
      " [8]]\n"
     ]
    }
   ],
   "source": [
    "import numpy as np\n",
    "before = np.array([[1, 2, 3, 4], [5, 6, 7, 8]])\n",
    "print(before)\n",
    "\n",
    "after = before.reshape((8, 1)) # This shape needs to match the total number of items available in the array\n",
    "print(after)"
   ]
  },
  {
   "cell_type": "code",
   "execution_count": 12,
   "id": "94008e40",
   "metadata": {},
   "outputs": [
    {
     "name": "stdout",
     "output_type": "stream",
     "text": [
      "[[1 2]\n",
      " [3 4]\n",
      " [5 6]\n",
      " [7 8]]\n"
     ]
    }
   ],
   "source": [
    "after = before.reshape((4, 2))\n",
    "print(after)"
   ]
  },
  {
   "cell_type": "code",
   "execution_count": 13,
   "id": "ed752c3d",
   "metadata": {},
   "outputs": [
    {
     "ename": "ValueError",
     "evalue": "cannot reshape array of size 8 into shape (3,2)",
     "output_type": "error",
     "traceback": [
      "\u001b[0;31m---------------------------------------------------------------------------\u001b[0m",
      "\u001b[0;31mValueError\u001b[0m                                Traceback (most recent call last)",
      "\u001b[0;32m<ipython-input-13-68d555d9d386>\u001b[0m in \u001b[0;36m<module>\u001b[0;34m\u001b[0m\n\u001b[0;32m----> 1\u001b[0;31m \u001b[0mafter\u001b[0m \u001b[0;34m=\u001b[0m \u001b[0mbefore\u001b[0m\u001b[0;34m.\u001b[0m\u001b[0mreshape\u001b[0m\u001b[0;34m(\u001b[0m\u001b[0;34m(\u001b[0m\u001b[0;36m3\u001b[0m\u001b[0;34m,\u001b[0m \u001b[0;36m2\u001b[0m\u001b[0;34m)\u001b[0m\u001b[0;34m)\u001b[0m \u001b[0;31m# This will not work since the number of items does not match the shape\u001b[0m\u001b[0;34m\u001b[0m\u001b[0;34m\u001b[0m\u001b[0m\n\u001b[0m",
      "\u001b[0;31mValueError\u001b[0m: cannot reshape array of size 8 into shape (3,2)"
     ]
    }
   ],
   "source": [
    "after = before.reshape((3, 2)) # This will not work since the number of items does not match the shape"
   ]
  },
  {
   "cell_type": "code",
   "execution_count": 53,
   "id": "82963824",
   "metadata": {},
   "outputs": [
    {
     "name": "stdout",
     "output_type": "stream",
     "text": [
      "[[1. 1. 1. 1.]\n",
      " [1. 1. 1. 1.]]\n",
      "[[0. 0.]\n",
      " [0. 0.]]\n"
     ]
    },
    {
     "data": {
      "text/plain": [
       "array([[1., 1., 1., 1., 0., 0.],\n",
       "       [1., 1., 1., 1., 0., 0.]])"
      ]
     },
     "execution_count": 53,
     "metadata": {},
     "output_type": "execute_result"
    }
   ],
   "source": [
    "# horizontal stacking arrays\n",
    "h1 = np.ones((2, 4))\n",
    "h2 = np.zeros((2, 2))\n",
    "print(h1)\n",
    "print(h2)\n",
    "\n",
    "np.hstack((h1, h2))"
   ]
  },
  {
   "cell_type": "code",
   "execution_count": 11,
   "id": "0fea6b03",
   "metadata": {},
   "outputs": [
    {
     "name": "stdout",
     "output_type": "stream",
     "text": [
      "[[ 1  2  3]\n",
      " [-1 -2 -3]]\n",
      "[[ 4  5  6]\n",
      " [-4 -5 -6]]\n",
      "[[ 1  2  3]\n",
      " [-1 -2 -3]\n",
      " [ 4  5  6]\n",
      " [-4 -5 -6]]\n"
     ]
    }
   ],
   "source": [
    "in_arr1 = np.array([[ 1, 2, 3], [ -1, -2, -3]] ) \n",
    "print (in_arr1)  \n",
    "  \n",
    "in_arr2 = np.array([[ 4, 5, 6], [ -4, -5, -6]] ) \n",
    "print (in_arr2)  \n",
    " \n",
    "out_arr = np.vstack((in_arr1, in_arr2)) \n",
    "print (out_arr) "
   ]
  },
  {
   "cell_type": "markdown",
   "id": "e0c42855",
   "metadata": {},
   "source": [
    "# Miscellaneous"
   ]
  },
  {
   "cell_type": "markdown",
   "id": "0b3a54a5",
   "metadata": {},
   "source": [
    "#### Load data from file"
   ]
  },
  {
   "cell_type": "code",
   "execution_count": 17,
   "id": "d73d4555",
   "metadata": {},
   "outputs": [],
   "source": [
    "!touch test.txt"
   ]
  },
  {
   "cell_type": "code",
   "execution_count": 19,
   "id": "621a910d",
   "metadata": {},
   "outputs": [],
   "source": [
    "with open(\"test.txt\", \"w\") as f:\n",
    "    f.write(\"1,2,3,4,5\\n6,7,8,9,10\\n11,12,13,14,15\")"
   ]
  },
  {
   "cell_type": "code",
   "execution_count": 20,
   "id": "7e5c5044",
   "metadata": {},
   "outputs": [
    {
     "name": "stdout",
     "output_type": "stream",
     "text": [
      "1,2,3,4,5\r\n",
      "6,7,8,9,10\r\n",
      "11,12,13,14,15"
     ]
    }
   ],
   "source": [
    "!cat test.txt"
   ]
  },
  {
   "cell_type": "code",
   "execution_count": 21,
   "id": "dcab5d81",
   "metadata": {},
   "outputs": [
    {
     "name": "stdout",
     "output_type": "stream",
     "text": [
      "float64\n"
     ]
    },
    {
     "data": {
      "text/plain": [
       "array([[ 1,  2,  3,  4,  5],\n",
       "       [ 6,  7,  8,  9, 10],\n",
       "       [11, 12, 13, 14, 15]], dtype=int32)"
      ]
     },
     "execution_count": 21,
     "metadata": {},
     "output_type": "execute_result"
    }
   ],
   "source": [
    "filedata = np.genfromtxt(\"test.txt\", delimiter=\",\")\n",
    "print(filedata.dtype)\n",
    "filedata = filedata.astype('int32')\n",
    "filedata"
   ]
  },
  {
   "cell_type": "code",
   "execution_count": 28,
   "id": "f9ad804a",
   "metadata": {},
   "outputs": [
    {
     "data": {
      "text/plain": [
       "array([[False, False, False, False, False],\n",
       "       [ True,  True,  True,  True,  True],\n",
       "       [ True,  True,  True,  True,  True]])"
      ]
     },
     "execution_count": 28,
     "metadata": {},
     "output_type": "execute_result"
    }
   ],
   "source": [
    "# Boolean masking\n",
    "filedata > 5"
   ]
  },
  {
   "cell_type": "code",
   "execution_count": 27,
   "id": "6da2fe37",
   "metadata": {},
   "outputs": [
    {
     "data": {
      "text/plain": [
       "array([ 6,  7,  8,  9, 10, 11, 12, 13, 14, 15], dtype=int32)"
      ]
     },
     "execution_count": 27,
     "metadata": {},
     "output_type": "execute_result"
    }
   ],
   "source": [
    "filedata[(filedata > 5)]"
   ]
  },
  {
   "cell_type": "code",
   "execution_count": 22,
   "id": "ddcdad23",
   "metadata": {},
   "outputs": [
    {
     "data": {
      "text/plain": [
       "array([[ 1,  2,  3,  4,  5],\n",
       "       [ 6,  7,  8,  9, 10],\n",
       "       [11, 12, 13, 14, 15]], dtype=int32)"
      ]
     },
     "execution_count": 22,
     "metadata": {},
     "output_type": "execute_result"
    }
   ],
   "source": [
    "filedata"
   ]
  },
  {
   "cell_type": "code",
   "execution_count": 29,
   "id": "67e686bc",
   "metadata": {},
   "outputs": [
    {
     "data": {
      "text/plain": [
       "True"
      ]
     },
     "execution_count": 29,
     "metadata": {},
     "output_type": "execute_result"
    }
   ],
   "source": [
    "np.any(filedata < 8)"
   ]
  },
  {
   "cell_type": "code",
   "execution_count": 31,
   "id": "f5f823fa",
   "metadata": {},
   "outputs": [
    {
     "data": {
      "text/plain": [
       "array([False, False,  True,  True,  True])"
      ]
     },
     "execution_count": 31,
     "metadata": {},
     "output_type": "execute_result"
    }
   ],
   "source": [
    "np.any(filedata > 12, axis = 0) # 0 For the column"
   ]
  },
  {
   "cell_type": "code",
   "execution_count": 32,
   "id": "8920b3a4",
   "metadata": {},
   "outputs": [
    {
     "data": {
      "text/plain": [
       "array([False,  True,  True])"
      ]
     },
     "execution_count": 32,
     "metadata": {},
     "output_type": "execute_result"
    }
   ],
   "source": [
    "np.any(filedata > 5, axis = 1) # 1 For the rows"
   ]
  },
  {
   "cell_type": "code",
   "execution_count": 33,
   "id": "80d7b2ce",
   "metadata": {},
   "outputs": [
    {
     "data": {
      "text/plain": [
       "False"
      ]
     },
     "execution_count": 33,
     "metadata": {},
     "output_type": "execute_result"
    }
   ],
   "source": [
    "np.all(filedata > 5)"
   ]
  },
  {
   "cell_type": "code",
   "execution_count": 35,
   "id": "cc549ef1",
   "metadata": {},
   "outputs": [
    {
     "data": {
      "text/plain": [
       "array([False, False, False, False, False])"
      ]
     },
     "execution_count": 35,
     "metadata": {},
     "output_type": "execute_result"
    }
   ],
   "source": [
    "np.all(filedata > 5, axis = 0) #columns"
   ]
  },
  {
   "cell_type": "code",
   "execution_count": 36,
   "id": "b3b9cce6",
   "metadata": {},
   "outputs": [
    {
     "data": {
      "text/plain": [
       "array([False,  True,  True])"
      ]
     },
     "execution_count": 36,
     "metadata": {},
     "output_type": "execute_result"
    }
   ],
   "source": [
    "np.all(filedata > 5, axis = 1) #rows"
   ]
  },
  {
   "cell_type": "code",
   "execution_count": 37,
   "id": "90cd99fa",
   "metadata": {},
   "outputs": [
    {
     "data": {
      "text/plain": [
       "array([[False, False, False, False, False],\n",
       "       [ True,  True,  True,  True, False],\n",
       "       [False, False, False, False, False]])"
      ]
     },
     "execution_count": 37,
     "metadata": {},
     "output_type": "execute_result"
    }
   ],
   "source": [
    "(filedata > 5) & (filedata < 10)"
   ]
  },
  {
   "cell_type": "code",
   "execution_count": 40,
   "id": "82ff7f5a",
   "metadata": {},
   "outputs": [
    {
     "data": {
      "text/plain": [
       "array([[ True,  True,  True,  True,  True],\n",
       "       [False, False, False, False,  True],\n",
       "       [ True,  True,  True,  True,  True]])"
      ]
     },
     "execution_count": 40,
     "metadata": {},
     "output_type": "execute_result"
    }
   ],
   "source": [
    "~((filedata > 5) & (filedata < 10))"
   ]
  },
  {
   "cell_type": "markdown",
   "id": "2c0e1b52",
   "metadata": {},
   "source": [
    "## Index mapping"
   ]
  },
  {
   "cell_type": "code",
   "execution_count": 41,
   "id": "91306761",
   "metadata": {},
   "outputs": [
    {
     "name": "stdout",
     "output_type": "stream",
     "text": [
      "[1 2 3 4 5] [1 3 2 1 1]\n",
      "Duplicate values: [2 3]\n",
      "Indices of duplicate values: (array([1, 2, 3, 5, 7]),)\n"
     ]
    }
   ],
   "source": [
    "import numpy as np\n",
    "\n",
    "arr = np.array([1, 2, 3, 2, 4, 2, 5, 3])\n",
    "\n",
    "# Get unique values, their counts, and index mapping\n",
    "unique_values, counts = np.unique(arr, return_counts=True)\n",
    "print(unique_values, counts)\n",
    "\n",
    "# Identify values that appear more than once\n",
    "duplicate_values = unique_values[counts > 1]  # This should now work correctly\n",
    "\n",
    "# Get indices of these duplicate values in the original array\n",
    "duplicate_indices = np.where(np.isin(arr, duplicate_values))\n",
    "\n",
    "print(\"Duplicate values:\", duplicate_values)\n",
    "print(\"Indices of duplicate values:\", duplicate_indices)"
   ]
  },
  {
   "cell_type": "code",
   "execution_count": null,
   "id": "df2086cc",
   "metadata": {},
   "outputs": [],
   "source": []
  }
 ],
 "metadata": {
  "kernelspec": {
   "display_name": "Python 3",
   "language": "python",
   "name": "python3"
  },
  "language_info": {
   "codemirror_mode": {
    "name": "ipython",
    "version": 3
   },
   "file_extension": ".py",
   "mimetype": "text/x-python",
   "name": "python",
   "nbconvert_exporter": "python",
   "pygments_lexer": "ipython3",
   "version": "3.6.13"
  }
 },
 "nbformat": 4,
 "nbformat_minor": 5
}
