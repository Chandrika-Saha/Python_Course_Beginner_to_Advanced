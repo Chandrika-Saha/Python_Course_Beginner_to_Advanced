{
 "cells": [
  {
   "cell_type": "markdown",
   "id": "e5cc5d42",
   "metadata": {},
   "source": [
    "# Pandas"
   ]
  },
  {
   "cell_type": "code",
   "execution_count": null,
   "id": "c935ad9e",
   "metadata": {},
   "outputs": [],
   "source": [
    "# flixibility of Python, Excel is limitted\n",
    "# Working with large amount of data\n",
    "# We load data on a dataframe\n",
    "\n",
    "import pandas as pd\n",
    "\n",
    "pokemon = pd.read_csv('pokemon_data.csv')\n",
    "print(type(pokemon))\n",
    "pokemon.head(5)"
   ]
  },
  {
   "cell_type": "code",
   "execution_count": null,
   "id": "3fef86c3",
   "metadata": {},
   "outputs": [],
   "source": [
    "pokemon.tail(5)"
   ]
  },
  {
   "cell_type": "code",
   "execution_count": null,
   "id": "6e00cd44",
   "metadata": {},
   "outputs": [],
   "source": [
    "# print the columns\n",
    "print(pokemon.columns)\n",
    "\n",
    "# read a column\n",
    "print(pokemon['Name'])\n",
    "print(pokemon['Name'][0:5])\n",
    "\n",
    "# read multiple columns\n",
    "print(pokemon[['Name', 'HP', 'Attack']])\n",
    "print(pokemon[['Name', 'HP', 'Attack']][0:5])"
   ]
  },
  {
   "cell_type": "code",
   "execution_count": null,
   "id": "a9807638",
   "metadata": {
    "scrolled": true
   },
   "outputs": [],
   "source": [
    "# # Read one row\n",
    "print(pokemon.iloc[0])\n",
    "\n",
    "# # Read multiple rows\n",
    "print(pokemon.iloc[1:5])\n",
    "\n",
    "# access a location (R, C)\n",
    "print(pokemon.iloc[2, 1])"
   ]
  },
  {
   "cell_type": "code",
   "execution_count": null,
   "id": "ee0f7091",
   "metadata": {
    "scrolled": false
   },
   "outputs": [],
   "source": [
    "# iterate through all rows of the dataframe\n",
    "for index, row in pokemon.iterrows():\n",
    "    print(index, row)"
   ]
  },
  {
   "cell_type": "code",
   "execution_count": null,
   "id": "4923f6fa",
   "metadata": {},
   "outputs": [],
   "source": [
    "# iterate through all rows of the dataframe for a specific column\n",
    "for index, row in pokemon.iterrows():\n",
    "    print(index, row['Name'])"
   ]
  },
  {
   "cell_type": "code",
   "execution_count": null,
   "id": "8176427f",
   "metadata": {},
   "outputs": [],
   "source": [
    "# find rows with values\n",
    "pokemon.loc[pokemon['Defense'] > 150]"
   ]
  },
  {
   "cell_type": "code",
   "execution_count": null,
   "id": "74208d70",
   "metadata": {},
   "outputs": [],
   "source": [
    "pokemon.info()"
   ]
  },
  {
   "cell_type": "code",
   "execution_count": null,
   "id": "c1c9d5ae",
   "metadata": {},
   "outputs": [],
   "source": [
    "# Describing datafram\n",
    "pokemon.describe().T"
   ]
  },
  {
   "cell_type": "code",
   "execution_count": null,
   "id": "fbf603ab",
   "metadata": {},
   "outputs": [],
   "source": [
    "# # sorting the values\n",
    "# pokemon.sort_values('Name')\n",
    "\n",
    "# # sort decending\n",
    "# pokemon.sort_values('Name', ascending = False)\n",
    "\n",
    "# # sort by multiple columns \n",
    "# pokemon.sort_values(['Name', 'Defense'])\n",
    "\n",
    "# # sort descending - multiple columns \n",
    "pokemon.sort_values(['Attack', 'HP'], ascending = [True, False])\n",
    "# pokemon.sort_values(['Name', 'Defense'], ascending = [True, False])"
   ]
  },
  {
   "cell_type": "code",
   "execution_count": null,
   "id": "e25d10e6",
   "metadata": {},
   "outputs": [],
   "source": [
    "# add a new column\n",
    "pokemon['Total'] = pokemon['HP'] + pokemon['Attack'] + pokemon['Defense'] + pokemon['Speed']"
   ]
  },
  {
   "cell_type": "code",
   "execution_count": null,
   "id": "a5c16e6d",
   "metadata": {},
   "outputs": [],
   "source": [
    "pokemon.head(5)"
   ]
  },
  {
   "cell_type": "code",
   "execution_count": null,
   "id": "1c8d7aaa",
   "metadata": {},
   "outputs": [],
   "source": [
    "# remove a column\n",
    "pokemon = pokemon.drop(columns = 'Total')\n",
    "pokemon.head(5)"
   ]
  },
  {
   "cell_type": "code",
   "execution_count": null,
   "id": "18f42d0b",
   "metadata": {},
   "outputs": [],
   "source": [
    "# Add a new column in a different way\n",
    "pokemon['Total'] = pokemon.iloc[:, 4:10].sum(axis = 1) # horizontal addition, 0 for rows\n",
    "pokemon.head(5)"
   ]
  },
  {
   "cell_type": "code",
   "execution_count": null,
   "id": "1838fb8d",
   "metadata": {},
   "outputs": [],
   "source": [
    "# ordering the columns\n",
    "\n",
    "columns = list(pokemon.columns.values)\n",
    "print(columns)\n",
    "pokemon = pokemon[columns[0:4] + [columns[-1]] + columns[4:12]]\n",
    "pokemon.head(5)"
   ]
  },
  {
   "cell_type": "code",
   "execution_count": null,
   "id": "2ea9a551",
   "metadata": {},
   "outputs": [],
   "source": [
    "# # Save file as csv\n",
    "# pokemon.to_csv('changed.csv')\n",
    "# # do not include the index column\n",
    "# pokemon.to_csv('changed2.csv', index = False)\n",
    "# pokemon.to_csv('changed2.csv', index = False, sep='\\t')"
   ]
  },
  {
   "cell_type": "code",
   "execution_count": null,
   "id": "74ea181e",
   "metadata": {},
   "outputs": [],
   "source": [
    "# Filtering data\n",
    "pokemon.loc[(pokemon['Type 1'] == 'Grass') & (pokemon['Type 2'] == 'Poison') & (pokemon['HP'] > 70)]"
   ]
  },
  {
   "cell_type": "code",
   "execution_count": null,
   "id": "9cf31fcf",
   "metadata": {},
   "outputs": [],
   "source": [
    "new = pokemon.loc[(pokemon['Type 1'] == 'Grass') & (pokemon['Type 2'] == 'Poison') & (pokemon['HP'] > 70)]\n",
    "new"
   ]
  },
  {
   "cell_type": "code",
   "execution_count": null,
   "id": "ab5db48c",
   "metadata": {},
   "outputs": [],
   "source": [
    "new = new.reset_index()\n",
    "new"
   ]
  },
  {
   "cell_type": "code",
   "execution_count": null,
   "id": "989e33ab",
   "metadata": {},
   "outputs": [],
   "source": [
    "new = new.reset_index(drop = True)\n",
    "new\n",
    "# new.reset_index(drop = True, inplace = True)\n",
    "# new"
   ]
  },
  {
   "cell_type": "code",
   "execution_count": null,
   "id": "190f7683",
   "metadata": {},
   "outputs": [],
   "source": [
    "pokemon.loc[pokemon['Name'].str.contains('Mega')]"
   ]
  },
  {
   "cell_type": "code",
   "execution_count": null,
   "id": "0434ad09",
   "metadata": {},
   "outputs": [],
   "source": [
    "pokemon.loc[~pokemon['Name'].str.contains('Mega')]"
   ]
  },
  {
   "cell_type": "code",
   "execution_count": null,
   "id": "53df8fb6",
   "metadata": {},
   "outputs": [],
   "source": [
    "import re\n",
    "\n",
    "df = pokemon\n",
    "df.loc[df['Type 1'].str.contains('fire|grass', flags = re.I, regex = True)]"
   ]
  },
  {
   "cell_type": "code",
   "execution_count": null,
   "id": "f522d7eb",
   "metadata": {},
   "outputs": [],
   "source": [
    "# '^pidg[a-z]$' --> just one alphabet\n",
    "# '^pidg[a-z]{2}$' --> exactly 2 alphabets\n",
    "\n",
    "df.loc[df['Name'].str.contains('^pidg[a-z]*', flags = re.I, regex = True)]"
   ]
  },
  {
   "cell_type": "code",
   "execution_count": null,
   "id": "9bb51811",
   "metadata": {},
   "outputs": [],
   "source": [
    "df.loc[df['Name'].str.contains('[a-z]*ing$', flags = re.I, regex = True)]"
   ]
  },
  {
   "cell_type": "code",
   "execution_count": null,
   "id": "6e6d4e1b",
   "metadata": {},
   "outputs": [],
   "source": [
    "# conditional changes\n",
    "\n",
    "df.loc[df['Type 1'] == 'Fire', 'Type 1'] = 'Flamer'\n",
    "df"
   ]
  },
  {
   "cell_type": "code",
   "execution_count": null,
   "id": "a5ae2231",
   "metadata": {},
   "outputs": [],
   "source": [
    "df.loc[df['Type 1'] == 'Flamer', 'Type 1'] = 'Fire'\n",
    "df.loc[df['Type 1'] == 'Fire', 'Legendary'] = True\n",
    "df"
   ]
  },
  {
   "cell_type": "code",
   "execution_count": null,
   "id": "f1d1f56d",
   "metadata": {},
   "outputs": [],
   "source": [
    "df.loc[df['HP'] > 40, ['Generation', 'Legendary']] = ['TEST 1','TEST 2']\n",
    "df"
   ]
  },
  {
   "cell_type": "code",
   "execution_count": null,
   "id": "155e36d5",
   "metadata": {},
   "outputs": [],
   "source": [
    "df.groupby(['Type 2']).mean().sort_values('HP', ascending = True)"
   ]
  },
  {
   "cell_type": "code",
   "execution_count": null,
   "id": "c08e7b34",
   "metadata": {},
   "outputs": [],
   "source": [
    "print(sorted(df['Type 1'].unique()))\n",
    "print(sorted(df['Type 2'].dropna().unique()))"
   ]
  },
  {
   "cell_type": "code",
   "execution_count": null,
   "id": "aff690d8",
   "metadata": {},
   "outputs": [],
   "source": [
    "def read_data():\n",
    "    pokemon = pd.read_csv('pokemon_data.csv')\n",
    "    return pokemon\n",
    "df = read_data()\n",
    "df['Types'] = df['Type 1'] + \" & \" + df['Type 2']\n",
    "df.head()"
   ]
  },
  {
   "cell_type": "code",
   "execution_count": null,
   "id": "956beda3",
   "metadata": {},
   "outputs": [],
   "source": [
    "df.groupby(['Types']).sum()"
   ]
  },
  {
   "cell_type": "code",
   "execution_count": null,
   "id": "52d651e0",
   "metadata": {},
   "outputs": [],
   "source": [
    "df['count'] = 1\n",
    "df.head()"
   ]
  },
  {
   "cell_type": "code",
   "execution_count": null,
   "id": "21773b9a",
   "metadata": {},
   "outputs": [],
   "source": [
    "df.groupby(['Type 2']).sum()['count']"
   ]
  },
  {
   "cell_type": "code",
   "execution_count": null,
   "id": "de74f8c9",
   "metadata": {},
   "outputs": [],
   "source": [
    "pd.set_option('display.max_rows', None)\n",
    "pd.set_option('display.max_columns', None)\n",
    "\n",
    "df.groupby(['Type 1', 'Type 2']).sum()['count']"
   ]
  },
  {
   "cell_type": "code",
   "execution_count": null,
   "id": "675b6d93",
   "metadata": {},
   "outputs": [],
   "source": [
    "df.groupby('Type 1')['HP'].median()"
   ]
  },
  {
   "cell_type": "code",
   "execution_count": null,
   "id": "1bf4f995",
   "metadata": {},
   "outputs": [],
   "source": [
    "import numpy as np\n",
    "df.groupby('Type 1')['HP'].aggregate(['min', np.median, max, np.std])"
   ]
  },
  {
   "cell_type": "code",
   "execution_count": null,
   "id": "5ee2497a",
   "metadata": {},
   "outputs": [],
   "source": [
    "df.groupby('Types').aggregate({'HP': 'min', 'Attack': 'max', 'Defense': 'median'})"
   ]
  },
  {
   "cell_type": "code",
   "execution_count": null,
   "id": "3906a891",
   "metadata": {},
   "outputs": [],
   "source": [
    "df.groupby('Type 1')[['HP', 'Attack', 'Defense']].std()\n",
    "# df.info()"
   ]
  },
  {
   "cell_type": "code",
   "execution_count": null,
   "id": "00ef1be0",
   "metadata": {},
   "outputs": [],
   "source": [
    "def filter_func(x):\n",
    "    return x['HP'].std() > 20"
   ]
  },
  {
   "cell_type": "code",
   "execution_count": null,
   "id": "a59f49d1",
   "metadata": {},
   "outputs": [],
   "source": [
    "df2 = df.groupby('Type 1')[['Type 1', 'HP', 'Attack', 'Defense']].filter(filter_func).reset_index(drop =True).set_index('Type 1')\n",
    "df2"
   ]
  },
  {
   "cell_type": "code",
   "execution_count": null,
   "id": "e783ee01",
   "metadata": {},
   "outputs": [],
   "source": [
    "df3 = {'key': ['A', 'B', 'C', 'A', 'C'], 'data1': [0, 1, 2, 3, 4], 'data2': [5, 6, 7, 8, 9] }\n",
    "df3 = pd.DataFrame(df3)\n",
    "df3"
   ]
  },
  {
   "cell_type": "code",
   "execution_count": null,
   "id": "7e6777ae",
   "metadata": {},
   "outputs": [],
   "source": [
    "df3.groupby('key').mean()"
   ]
  },
  {
   "cell_type": "code",
   "execution_count": null,
   "id": "1c7d67a2",
   "metadata": {},
   "outputs": [],
   "source": [
    "\n",
    "# key\tdata1\tdata2\n",
    "# \tA\t0\t5\n",
    "# \tB\t1\t6\n",
    "# \tC\t2\t7\n",
    "# \tA\t3\t8\n",
    "# \tC\t4\t9\n",
    "\n",
    "def fnc(x):\n",
    "#     print(x['data1'].mean())\n",
    "    return x['data1'].mean() >= 2\n",
    "\n",
    "df3.groupby('key').filter(fnc).reset_index()"
   ]
  },
  {
   "cell_type": "code",
   "execution_count": null,
   "id": "1e89c054",
   "metadata": {},
   "outputs": [],
   "source": [
    "df.groupby('Type 1')['HP'].transform(lambda x: x - x.mean())"
   ]
  },
  {
   "cell_type": "code",
   "execution_count": null,
   "id": "60684056",
   "metadata": {},
   "outputs": [],
   "source": [
    "# let you apply arbitrary functon to the group result\n",
    "def norm_by_data(x):\n",
    "    x['Attack'] /= x['HP'].sum()\n",
    "    return x\n",
    "\n",
    "df.groupby('Type 1')[['HP', 'Attack']].apply(norm_by_data)"
   ]
  },
  {
   "cell_type": "code",
   "execution_count": null,
   "id": "9bdef301",
   "metadata": {},
   "outputs": [],
   "source": [
    "# creating your own split\n",
    "import random\n",
    "lst = []\n",
    "for i in range(len(df)):\n",
    "    lst.append(random.randint(0, 3))\n",
    "print(lst)\n",
    "df.groupby(lst).sum()"
   ]
  },
  {
   "cell_type": "code",
   "execution_count": null,
   "id": "00ce3b41",
   "metadata": {},
   "outputs": [],
   "source": [
    "# pass any Python function that will input the index value and output the group\n",
    "df2 = df.set_index('Type 1')\n",
    "df2"
   ]
  },
  {
   "cell_type": "code",
   "execution_count": null,
   "id": "be993565",
   "metadata": {},
   "outputs": [],
   "source": [
    "df2.groupby(str.lower).mean()"
   ]
  },
  {
   "cell_type": "code",
   "execution_count": null,
   "id": "0ea57256",
   "metadata": {},
   "outputs": [],
   "source": [
    "# use def read_data(): to read the csv"
   ]
  },
  {
   "cell_type": "markdown",
   "id": "b03565b5",
   "metadata": {},
   "source": [
    "### Lamda function in Python"
   ]
  },
  {
   "cell_type": "code",
   "execution_count": null,
   "id": "a19677e0",
   "metadata": {},
   "outputs": [],
   "source": [
    "# function without `def`\n",
    "# anything after the `lambda` keyword is treated as an argument\n",
    "add = lambda a, b: a + b\n",
    "print(add(3, 8))\n",
    "\n",
    "def add2(a = 4 , b = 2):\n",
    "    return a + b\n",
    "print(add2())"
   ]
  },
  {
   "cell_type": "code",
   "execution_count": null,
   "id": "b5902f0c",
   "metadata": {},
   "outputs": [],
   "source": [
    "add = lambda a: a + 5\n",
    "add(10)"
   ]
  },
  {
   "cell_type": "code",
   "execution_count": null,
   "id": "dec30dd6",
   "metadata": {},
   "outputs": [],
   "source": [
    "# lambda without assigning it to a variable\n",
    "# Immediately Envoked Function Expression\n",
    "(lambda a, b: a * b)(3, 5)"
   ]
  },
  {
   "cell_type": "code",
   "execution_count": null,
   "id": "3fa8eee1",
   "metadata": {},
   "outputs": [],
   "source": [
    "product = lambda x, y, z = 7: x * y * z\n",
    "print(product(z = 5, x = 1, y = 1))"
   ]
  },
  {
   "cell_type": "code",
   "execution_count": null,
   "id": "38ef81f0",
   "metadata": {},
   "outputs": [],
   "source": [
    "add = lambda x, y = 15, z = 1: x + y + z\n",
    "print(add(1))"
   ]
  },
  {
   "cell_type": "code",
   "execution_count": null,
   "id": "9b6343b6",
   "metadata": {},
   "outputs": [],
   "source": [
    "add = lambda *args: sum(args)\n",
    "print(add(1, 2, 3, 4, 5, 6))"
   ]
  },
  {
   "cell_type": "code",
   "execution_count": null,
   "id": "097e25e0",
   "metadata": {},
   "outputs": [],
   "source": [
    "higher_ord = lambda x, fun: x + fun(x)\n",
    "higher_ord(5, lambda x: x * x)"
   ]
  },
  {
   "cell_type": "code",
   "execution_count": null,
   "id": "5a9e46bb",
   "metadata": {},
   "outputs": [],
   "source": [
    "print(12 % 5)"
   ]
  },
  {
   "cell_type": "code",
   "execution_count": null,
   "id": "7745375d",
   "metadata": {},
   "outputs": [],
   "source": [
    "(lambda x : (x % 2) and 'odd' or 'even')(12)\n",
    "# 1 and 'odd' or 'even' -> 'odd'\n",
    "# 0 and 'odd' or 'even' -> 'even'"
   ]
  },
  {
   "cell_type": "code",
   "execution_count": null,
   "id": "61bed1d9",
   "metadata": {},
   "outputs": [],
   "source": [
    "sub_string = lambda string : string in \"Python Lessons\" \n",
    "sub_string(\"java\")"
   ]
  },
  {
   "cell_type": "code",
   "execution_count": null,
   "id": "431e157e",
   "metadata": {},
   "outputs": [],
   "source": [
    "nums = [10, 40, 80, 160, 240, 400]\n",
    "greater = list(filter(lambda num: num > 80, nums))\n",
    "print(greater)"
   ]
  },
  {
   "cell_type": "code",
   "execution_count": null,
   "id": "ce784927",
   "metadata": {},
   "outputs": [],
   "source": [
    "nums = [2, 4, 6, 8, 16, 32, 64, 128, 256]\n",
    "divide = list(filter(lambda x : (x%4 == 0), nums))\n",
    "print(divide)"
   ]
  },
  {
   "cell_type": "code",
   "execution_count": null,
   "id": "8f74d3fd",
   "metadata": {},
   "outputs": [],
   "source": [
    "nums = [2, 4, 6, 8, 16, 32, 64, 128, 256]\n",
    "double = list(map(lambda x: x * 2, nums))\n",
    "print(double)"
   ]
  },
  {
   "cell_type": "code",
   "execution_count": null,
   "id": "0ba8c4a8",
   "metadata": {},
   "outputs": [],
   "source": [
    "nums = [1, 2, 3, 4, 5]\n",
    "cube = list(map(lambda x : pow(x, 3), nums))\n",
    "print(cube)"
   ]
  },
  {
   "cell_type": "code",
   "execution_count": null,
   "id": "176b0b3c",
   "metadata": {},
   "outputs": [],
   "source": [
    "from functools import reduce\n",
    "nums = [1, 2, 3]\n",
    "summ = reduce((lambda x, y: x / y), nums)\n",
    "print(summ)"
   ]
  },
  {
   "cell_type": "code",
   "execution_count": null,
   "id": "3f650404",
   "metadata": {},
   "outputs": [],
   "source": [
    "def quadratic(a, b, c):\n",
    "    return lambda x: a*x**2 + b*x + c\n",
    "    # lambda x: 2*x**2 + 3*x + 5\n",
    "f = quadratic(2, 3, 5) #lambda x: 2*x**2 + 3*x + 5\n",
    "print(f(1))\n",
    "print(f(2))\n",
    "print(f(3))\n",
    "f = quadratic(3, 5, 7) #lambda x: 2*x**2 + 3*x + 5\n",
    "print(f(1))\n",
    "print(f(2))\n",
    "print(f(3))"
   ]
  },
  {
   "cell_type": "markdown",
   "id": "6c2b5c54",
   "metadata": {},
   "source": [
    "# Merge (join), Concat / Append in Pandas"
   ]
  },
  {
   "cell_type": "code",
   "execution_count": null,
   "id": "33ea93d0",
   "metadata": {},
   "outputs": [],
   "source": [
    "import pandas as pd\n",
    "\n",
    "table1 = pd.DataFrame(data = {'col1': [1, 2, 3], 'col2': [4, 5, 6]})\n",
    "table2 = pd.DataFrame(data = {'col1': [4, 5, 6], 'col2': [7, 8, 9]})\n",
    "table3 = pd.DataFrame(data = {'col3': [1, 1, 2], 'col4': [4, 4, 6]})\n",
    "print(table1)\n",
    "print(table2)\n",
    "print(table3)"
   ]
  },
  {
   "cell_type": "code",
   "execution_count": null,
   "id": "0401214c",
   "metadata": {},
   "outputs": [],
   "source": [
    "pd.concat([table1, table2])"
   ]
  },
  {
   "cell_type": "code",
   "execution_count": null,
   "id": "223fddc9",
   "metadata": {},
   "outputs": [],
   "source": [
    "table1.append(table2)"
   ]
  },
  {
   "cell_type": "code",
   "execution_count": null,
   "id": "7393c933",
   "metadata": {},
   "outputs": [],
   "source": [
    "pd.concat([table1, table3])"
   ]
  },
  {
   "cell_type": "code",
   "execution_count": null,
   "id": "9673e5df",
   "metadata": {},
   "outputs": [],
   "source": [
    "pd.concat([table1, table3], axis = 1) # axis 1->`across columns`, axis 0 -> `across row`"
   ]
  },
  {
   "cell_type": "code",
   "execution_count": null,
   "id": "aa159a5f",
   "metadata": {},
   "outputs": [],
   "source": [
    "print(table1)\n",
    "print(table2)\n",
    "pd.merge(table1, table2, on='col2', how='right')"
   ]
  },
  {
   "cell_type": "code",
   "execution_count": null,
   "id": "30cddff0",
   "metadata": {},
   "outputs": [],
   "source": [
    "table1 = pd.DataFrame(data = {'col1': [1, 2, 3], 'col2': [4, 5, 6]})\n",
    "table2 = pd.DataFrame(data = {'col1': [4, 5, 6], 'col2': [4, 5, 9]})\n",
    "table3 = pd.DataFrame(data = {'col3': [1, 1, 2], 'col4': [4, 4, 6]})\n",
    "print(table1)\n",
    "print(table2)\n",
    "pd.merge(table1, table2, on='col2', how='outer') # other joins: left, right, inner, outer"
   ]
  },
  {
   "cell_type": "code",
   "execution_count": null,
   "id": "8ac60ae1",
   "metadata": {},
   "outputs": [],
   "source": [
    "table1 = pd.DataFrame(data = {'col1': [1, 2, 3], 'col2': [4, 5, 6]})\n",
    "table2 = pd.DataFrame(data = {'col1': [4, 5, 6], 'col2': [4, 5, 9]})\n",
    "table3 = pd.DataFrame(data = {'col3': [1, 1, 2], 'col4': [6, 8, 9]})\n",
    "print(table1)\n",
    "print(table3)\n",
    "pd.merge(table1, table3, left_on='col2', right_on='col4', how='left')"
   ]
  },
  {
   "cell_type": "code",
   "execution_count": null,
   "id": "88468732",
   "metadata": {},
   "outputs": [],
   "source": [
    "print(table1)\n",
    "print(table3)\n",
    "\n",
    "# col1 col2 col3 col4\n",
    "# 1, 4, 1, 4\n",
    "# 1, 4, 1, 4\n",
    "# 2, 5, 2, 6\n",
    "# 3, 6, NaN, NaN\n",
    "pd.merge(table1, table3, left_on='col2', right_on='col4', how='outer')"
   ]
  },
  {
   "cell_type": "code",
   "execution_count": null,
   "id": "a18b869a",
   "metadata": {},
   "outputs": [],
   "source": [
    "print(table1)\n",
    "print(table3)\n",
    "pd.merge(table1, table3, left_on='col2', right_on='col4', how='inner')"
   ]
  },
  {
   "cell_type": "code",
   "execution_count": null,
   "id": "0d7cad87",
   "metadata": {},
   "outputs": [],
   "source": [
    "print(table1)\n",
    "print(table3)\n",
    "pd.merge(table1, table3, left_on='col2', right_on='col4', how='right')"
   ]
  }
 ],
 "metadata": {
  "kernelspec": {
   "display_name": "Python 3",
   "language": "python",
   "name": "python3"
  },
  "language_info": {
   "codemirror_mode": {
    "name": "ipython",
    "version": 3
   },
   "file_extension": ".py",
   "mimetype": "text/x-python",
   "name": "python",
   "nbconvert_exporter": "python",
   "pygments_lexer": "ipython3",
   "version": "3.6.13"
  }
 },
 "nbformat": 4,
 "nbformat_minor": 5
}
