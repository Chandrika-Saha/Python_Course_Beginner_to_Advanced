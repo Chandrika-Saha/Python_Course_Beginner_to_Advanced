{
 "cells": [
  {
   "cell_type": "markdown",
   "id": "c02e580e",
   "metadata": {},
   "source": [
    "Program1(1 points):\n",
    "\t•\tWrite a Python class (Rectangle) that has two attributes (length, width). \n",
    "\t•\tCreate an instance method (calculateAreas()) for calculating the area \n",
    "\t•\tCreate another instance method (calculatePerimeter()) for calculating the perimeter. \n",
    "\t•\tCreate an object (square) and find its area and perimeter. \n",
    "\t•\tCall these methods using the object and print area and perimeter of the square. \n",
    "\t•\tUse 10cm as the value of length and width."
   ]
  },
  {
   "cell_type": "code",
   "execution_count": 4,
   "id": "2677f74d",
   "metadata": {},
   "outputs": [
    {
     "name": "stdout",
     "output_type": "stream",
     "text": [
      "<class '__main__.Rectangle'>\n",
      "The length is 10 and the width is 10\n",
      "<class '__main__.Rectangle'>\n",
      "The length is 15 and the width is 10\n",
      "Area of the square: 100\n",
      "Perimeter of the square: 40\n",
      "Area of the square: 0\n",
      "Perimeter of the square: 0\n"
     ]
    }
   ],
   "source": [
    "# Class is a blueprint to create an object\n",
    "class Rectangle:\n",
    "    \n",
    "    # Constructor\n",
    "    def __init__(self, length = 0, width = 0):\n",
    "        self.length = length\n",
    "        self.width = width\n",
    "        \n",
    "    def calculateAreas(self):\n",
    "        return self.length * self.width\n",
    "    \n",
    "    def calculatePerimeter(self):\n",
    "        return 2 * (self.length + self.width)\n",
    "    \n",
    "    def __str__(self):\n",
    "        return f\"The length is {self.length} and the width is {self.width}\"\n",
    "                \n",
    "\n",
    "# Object\n",
    "square = Rectangle(10, 10)\n",
    "print(type(square))\n",
    "print(square)\n",
    "\n",
    "rect1 = Rectangle(15, 10)\n",
    "print(type(square))\n",
    "print(rect1)\n",
    "\n",
    "rect = Rectangle()\n",
    "\n",
    "\n",
    "print(\"Area of the square:\" , square.calculateAreas())\n",
    "print(\"Perimeter of the square:\", square.calculatePerimeter())\n",
    "\n",
    "print(\"Area of the square:\" , rect.calculateAreas())\n",
    "print(\"Perimeter of the square:\", rect.calculatePerimeter())"
   ]
  },
  {
   "cell_type": "code",
   "execution_count": 5,
   "id": "3258f3d8",
   "metadata": {},
   "outputs": [
    {
     "name": "stdout",
     "output_type": "stream",
     "text": [
      "Area of the square: 100\n",
      "Perimeter of the square: 40\n",
      "Area of the square: 0\n",
      "Perimeter of the square: 0\n"
     ]
    }
   ],
   "source": [
    "class Square:\n",
    "    \n",
    "    def __init__(self, length = 0, width = 0):\n",
    "        self.length = length\n",
    "        self.width = width\n",
    "        \n",
    "    def calculateAreas(self):\n",
    "        return self.length * self.width\n",
    "    \n",
    "    \n",
    "class Rectangle:\n",
    "    \n",
    "    def __init__(self, length = 0, width = 0):\n",
    "        self.length = length\n",
    "        self.width = width\n",
    "        \n",
    "    def calculateAreas(self):\n",
    "        return self.length * self.width\n",
    "    \n",
    "    def calculatePerimeter(self):\n",
    "        return 2 * (self.length + self.width)\n",
    "    \n",
    "    \n",
    "square = Rectangle(10, 10)\n",
    "rect = Rectangle()\n",
    "\n",
    "print(\"Area of the square:\" , square.calculateAreas())\n",
    "print(\"Perimeter of the square:\", square.calculatePerimeter())\n",
    "\n",
    "print(\"Area of the square:\" , rect.calculateAreas())\n",
    "print(\"Perimeter of the square:\", rect.calculatePerimeter())"
   ]
  },
  {
   "cell_type": "code",
   "execution_count": null,
   "id": "797f0612",
   "metadata": {},
   "outputs": [],
   "source": []
  },
  {
   "cell_type": "markdown",
   "id": "7ec05364",
   "metadata": {},
   "source": [
    "class Student():\n",
    "    university=\"ABC university\"\n",
    "    def __init__(self, name,  sid):\n",
    "        self.name=name\n",
    "        self.sid=sid\n",
    "    def displayName():\n",
    "               # write code here to complete the method\n",
    "    def displayGrade():\n",
    "        pass\n",
    "  \n",
    "\t•\tStudent class (given above)   has two attributes(name, studentID). It contains two methods: displayName(), displayGrade()\n",
    "\t•\tUpdate/override displayName() method such that it can be used to display the name attribute associated with the object. \n",
    "\t•\tCreate a new class (Grade) that inherits the Student class. Grade class has three  attributes(name, studentID, courseGrade. Define the constructor(__init__ method) to initialize these attributes when objects are created.\n",
    "\t•\tCreate an object of the Grade class using these values for its attributes: name=”Tom”, studentID=”s1”, courseGrade=75.3\n",
    "\t•\tUpdate/override displayGrade() in Grade class such that it calculates the letter grade based on the numeric grade. For example, if courseGrade is 75.3, then letter grade will be C\n",
    "\t•\tLetter grades are decided based on the grading scale mentioned in this table:\n",
    "Grade\n",
    "Letter Grade\n",
    "59.44 or less\n",
    "F\n",
    "59.45 to 69.44\n",
    "D\n",
    "69.45 to 79.44\n",
    "C\n",
    "79.45 to 89.44\n",
    "B\n",
    "89.45 or more\n",
    "A"
   ]
  },
  {
   "cell_type": "code",
   "execution_count": 20,
   "id": "8269170e",
   "metadata": {},
   "outputs": [
    {
     "name": "stdout",
     "output_type": "stream",
     "text": [
      "University: ABC university\n",
      "Name: Tom\n",
      "Student id: s-001\n",
      "Rect 80\n",
      "Student Grade: C\n",
      "The name of the student is Tom\n"
     ]
    }
   ],
   "source": [
    "class Rectangle:\n",
    "    \n",
    "    # Constructor\n",
    "    def __init__(self, length, width):\n",
    "        self.length = length\n",
    "        self.width = width\n",
    "        \n",
    "    def calculateAreas(self):\n",
    "        return self.length * self.width\n",
    "    \n",
    "    def calculatePerimeter(self):\n",
    "        return 2 * (self.length + self.width)\n",
    "    \n",
    "    def __str__(self):\n",
    "        return f\"The length is {self.length} and the width is {self.width}\"\n",
    "    \n",
    "class Student:\n",
    "    \n",
    "    university=\"ABC university\"\n",
    "    \n",
    "    def __init__(self, name,  sid):\n",
    "        self.name=name\n",
    "        self.sid=sid\n",
    "        \n",
    "    def displayName(self):\n",
    "        return self.name\n",
    "    \n",
    "    def displayGrade(self):\n",
    "        pass\n",
    "    \n",
    "class Grade(Student, Rectangle):\n",
    "    \n",
    "    \n",
    "    def __init__(self, name, sid, grade):\n",
    "        Student.__init__(self, name, sid)\n",
    "        Rectangle.__init__(self, 10, 8)\n",
    "        self.grade = grade\n",
    "        \n",
    "    # Overriding\n",
    "    def displayGrade(self):\n",
    "        # Letter Grade\n",
    "        if(self.grade <= 59.44):\n",
    "            return \"F\"\n",
    "        elif(self.grade >= 59.45 and self.grade <= 69.44):\n",
    "            return \"D\"\n",
    "        elif(69.45 <= self.grade <= 79.44):\n",
    "            return \"C\"\n",
    "        elif(self.grade >= 79.45 and self.grade <= 89.44):\n",
    "            return \"B\"\n",
    "        else:\n",
    "            return \"A\"\n",
    "        \n",
    "    def displayInfo(self):\n",
    "        return f\"The name of the student is {self.name}\"\n",
    "        \n",
    "\n",
    "obj = Grade(\"Tom\", \"s-001\", 75.3)    \n",
    "print(\"University:\", obj.university)\n",
    "print(\"Name:\", obj.displayName())\n",
    "print(\"Student id:\", obj.sid)\n",
    "print(\"Rect\", obj.calculateAreas())\n",
    "print(\"Student Grade:\", obj.displayGrade())\n",
    "print(obj.displayInfo())\n"
   ]
  },
  {
   "cell_type": "markdown",
   "id": "a1b49d66",
   "metadata": {},
   "source": [
    "Program3(2 points):\n",
    "\t•\tCreate a class ‘Employee’ that has two attributes(name, salary). Define the constructor(__init__ method) to initialize these attributes when objects are created. \n",
    "\t•\tCreate two objects of the ‘Employee’ class: object named ‘John’ with name(John) & salary(5000.50), object named ‘Maria’ with name(Maria) & salary(4090.50).\n",
    "\t•\tWrite a method to define the behavior of LESS THAN (<) operator for the Employee class. Define the method such that it compares the salaries of the objects. For example,  Maria < John should return TRUE because her salary of Maria is less than John's. \n",
    "\t•\tWrite a method to define the behavior of GREATER THAN (>) operator for the Employee class. Define the method such that it compares the salaries of the objects. For example,  John > Maria  should return TRUE because salary John is more than Maria. \n",
    "\t•\tUse these methods and check if they are working as intended or not. \n",
    "\t•\tHint: You need to override special method: __lt__(),  __gt__()"
   ]
  },
  {
   "cell_type": "code",
   "execution_count": null,
   "id": "a94ec3c7",
   "metadata": {},
   "outputs": [],
   "source": []
  },
  {
   "cell_type": "code",
   "execution_count": 21,
   "id": "0c98dc99",
   "metadata": {
    "scrolled": true
   },
   "outputs": [
    {
     "name": "stdout",
     "output_type": "stream",
     "text": [
      "John > Maria?  True\n",
      "Maria < John?  True\n",
      "Maria > John?  False\n",
      "Employee name is John and salary is 5000.5\n",
      "Employee name is Maria and salary is 4090.5\n"
     ]
    }
   ],
   "source": [
    "class Employee:\n",
    "    \n",
    "    def __init__(self, name, salary):\n",
    "        self.name = name\n",
    "        self.salary = salary\n",
    "        \n",
    "    def __lt__(self, other):\n",
    "        if isinstance(other, Employee):\n",
    "            return self.salary < other.salary\n",
    "\n",
    "    def __gt__(self, other):\n",
    "         if isinstance(other, Employee):\n",
    "            return self.salary > other.salary\n",
    "        \n",
    "    def __str__(self):\n",
    "        return f\"Employee name is {self.name} and salary is {self.salary}\"\n",
    "        \n",
    "\n",
    "John = Employee(\"John\", 5000.50)\n",
    "Maria = Employee(\"Maria\", 4090.50)\n",
    "\n",
    "print(\"John > Maria? \", John > Maria)\n",
    "print(\"Maria < John? \", Maria < John)\n",
    "print(\"Maria > John? \", Maria > John)\n",
    "print(John)\n",
    "print(Maria)"
   ]
  },
  {
   "cell_type": "code",
   "execution_count": 4,
   "id": "ba81f643",
   "metadata": {},
   "outputs": [
    {
     "ename": "SyntaxError",
     "evalue": "invalid syntax (<ipython-input-4-f180e7703edc>, line 1)",
     "output_type": "error",
     "traceback": [
      "\u001b[0;36m  File \u001b[0;32m\"<ipython-input-4-f180e7703edc>\"\u001b[0;36m, line \u001b[0;32m1\u001b[0m\n\u001b[0;31m    Program4(2 points):\u001b[0m\n\u001b[0m                    ^\u001b[0m\n\u001b[0;31mSyntaxError\u001b[0m\u001b[0;31m:\u001b[0m invalid syntax\n"
     ]
    }
   ],
   "source": [
    "Program4(2 points):\n",
    "\t•\tCreate an GUI application using Tkinter to calculate income tax. \n",
    "\t•\tThis application contains 3 labels, 2 enter boxes and 1 button. \n",
    "\t•\tThe title of the application should be \"Income tax calculator\"\n",
    "\t•\tIt allows the user to enter name and annual salary.\n",
    "\t•\tIt displays income tax on Button click. Income tax is 10% of the income. \n",
    "\t•\tenter name= John and income=75000 to test the application\n",
    "\t•\tThe application should be similar to this picture:"
   ]
  },
  {
   "cell_type": "code",
   "execution_count": 2,
   "id": "e6f06f69",
   "metadata": {},
   "outputs": [],
   "source": [
    "import tkinter as tk\n",
    "\n",
    "def calculate_tax():\n",
    "    try:\n",
    "        salary = float(salary_input.get())\n",
    "        income_tax = 0.1 * salary\n",
    "        output_label.config(text = f\"{name_input.get()}, your income tax is {income_tax}\")\n",
    "    except ValueError:\n",
    "        output_label.config(text = \"Please enter a valid salary.\")\n",
    "        \n",
    "\n",
    "root = tk.Tk()\n",
    "root.title(\"Income Tax Calculator\")\n",
    "\n",
    "name_label = tk.Label(root, text = \"Enter your Name: \")\n",
    "salary_label = tk.Label(root, text = \"Enter your Salary: \")\n",
    "output_label = tk.Label(root, text = \"\")\n",
    "\n",
    "name_label.grid(row = 0, column = 0, padx = 5, pady = 5)\n",
    "salary_label.grid(row = 1, column = 0, padx = 5, pady = 5)\n",
    "output_label.grid(row = 3, column = 0, padx = 10, pady = 10)\n",
    "\n",
    "name_input = tk.Entry(root)\n",
    "salary_input = tk.Entry(root)\n",
    "\n",
    "name_input.grid(row = 0, column = 1, padx = 5, pady = 5)\n",
    "salary_input.grid(row = 1, column = 1, padx = 5, pady =5)\n",
    "\n",
    "calculate_tax = tk.Button(root, text = \"Calculate Tax\", command = calculate_tax)\n",
    "calculate_tax.grid(row = 2, column = 0, padx = 10, pady = 1)\n",
    "\n",
    "root.mainloop()"
   ]
  },
  {
   "cell_type": "markdown",
   "id": "172cb570",
   "metadata": {},
   "source": [
    "Program2(1 point): Write a program to find the factorial of a given integer. Enter 6 to find the answer. "
   ]
  },
  {
   "cell_type": "code",
   "execution_count": 2,
   "id": "7c54e146",
   "metadata": {},
   "outputs": [
    {
     "name": "stdout",
     "output_type": "stream",
     "text": [
      "Enter a number to get the factorial: 6\n",
      "The factorial is:  720\n"
     ]
    }
   ],
   "source": [
    "def factorial(num):\n",
    "    \n",
    "    if num == 1:\n",
    "        return 1\n",
    "    else:\n",
    "        factorial = 1\n",
    "        for i in range(1, num + 1):\n",
    "            factorial *= i\n",
    "        return factorial\n",
    "    \n",
    "number = int(input(\"Enter a number to get the factorial: \"))\n",
    "print(\"The factorial is: \", factorial(number))"
   ]
  },
  {
   "cell_type": "markdown",
   "id": "4d830ce2",
   "metadata": {},
   "source": [
    "Program4(1 points): Write a program to count the number of a vowels in a given string element in a list. For example, count the number of vowels in string1=\"abdnedoxydi\" "
   ]
  },
  {
   "cell_type": "code",
   "execution_count": 3,
   "id": "748ae32f",
   "metadata": {},
   "outputs": [
    {
     "name": "stdout",
     "output_type": "stream",
     "text": [
      "Enter a string to count the number of vowels: abdnedoxydi\n",
      "The number of vowels are:  4\n"
     ]
    }
   ],
   "source": [
    "def count_vowels(string):\n",
    "    vowels = \"aeiou\"\n",
    "    vowels_count = 0\n",
    "    for char in string:\n",
    "        if char.lower() in vowels:\n",
    "            vowels_count += 1\n",
    "    return vowels_count\n",
    "\n",
    "string = input(\"Enter a string to count the number of vowels: \")\n",
    "print(\"The number of vowels are: \", count_vowels(string))"
   ]
  },
  {
   "cell_type": "code",
   "execution_count": null,
   "id": "375e5809",
   "metadata": {},
   "outputs": [],
   "source": []
  }
 ],
 "metadata": {
  "kernelspec": {
   "display_name": "Python 3",
   "language": "python",
   "name": "python3"
  },
  "language_info": {
   "codemirror_mode": {
    "name": "ipython",
    "version": 3
   },
   "file_extension": ".py",
   "mimetype": "text/x-python",
   "name": "python",
   "nbconvert_exporter": "python",
   "pygments_lexer": "ipython3",
   "version": "3.6.13"
  }
 },
 "nbformat": 4,
 "nbformat_minor": 5
}
